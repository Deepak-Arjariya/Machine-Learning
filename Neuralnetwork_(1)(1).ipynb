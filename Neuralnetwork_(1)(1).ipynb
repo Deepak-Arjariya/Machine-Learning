{
  "nbformat": 4,
  "nbformat_minor": 0,
  "metadata": {
    "colab": {
      "name": "Neuralnetwork (1).ipynb",
      "provenance": []
    },
    "kernelspec": {
      "name": "python3",
      "display_name": "Python 3"
    },
    "language_info": {
      "name": "python"
    },
    "accelerator": "GPU"
  },
  "cells": [
    {
      "cell_type": "markdown",
      "metadata": {
        "id": "Iv1H2LpTlY7Z"
      },
      "source": [
        "#neural network For Binary classification\n"
      ]
    },
    {
      "cell_type": "code",
      "metadata": {
        "id": "Cewv7qtCY8eF"
      },
      "source": [
        "path = 'https://raw.githubusercontent.com/jbrownlee/Datasets/master/ionosphere.csv'\n"
      ],
      "execution_count": null,
      "outputs": []
    },
    {
      "cell_type": "code",
      "metadata": {
        "colab": {
          "base_uri": "https://localhost:8080/",
          "height": 226
        },
        "id": "hDM6x-IGZS1j",
        "outputId": "34746521-3c35-439b-8e06-fe3004e91498"
      },
      "source": [
        "import pandas as pd\n",
        "import numpy as np\n",
        "df = pd.read_csv(path, header=None)\n",
        "df.head()\n"
      ],
      "execution_count": null,
      "outputs": [
        {
          "output_type": "execute_result",
          "data": {
            "text/html": [
              "<div>\n",
              "<style scoped>\n",
              "    .dataframe tbody tr th:only-of-type {\n",
              "        vertical-align: middle;\n",
              "    }\n",
              "\n",
              "    .dataframe tbody tr th {\n",
              "        vertical-align: top;\n",
              "    }\n",
              "\n",
              "    .dataframe thead th {\n",
              "        text-align: right;\n",
              "    }\n",
              "</style>\n",
              "<table border=\"1\" class=\"dataframe\">\n",
              "  <thead>\n",
              "    <tr style=\"text-align: right;\">\n",
              "      <th></th>\n",
              "      <th>0</th>\n",
              "      <th>1</th>\n",
              "      <th>2</th>\n",
              "      <th>3</th>\n",
              "      <th>4</th>\n",
              "      <th>5</th>\n",
              "      <th>6</th>\n",
              "      <th>7</th>\n",
              "      <th>8</th>\n",
              "      <th>9</th>\n",
              "      <th>10</th>\n",
              "      <th>11</th>\n",
              "      <th>12</th>\n",
              "      <th>13</th>\n",
              "      <th>14</th>\n",
              "      <th>15</th>\n",
              "      <th>16</th>\n",
              "      <th>17</th>\n",
              "      <th>18</th>\n",
              "      <th>19</th>\n",
              "      <th>20</th>\n",
              "      <th>21</th>\n",
              "      <th>22</th>\n",
              "      <th>23</th>\n",
              "      <th>24</th>\n",
              "      <th>25</th>\n",
              "      <th>26</th>\n",
              "      <th>27</th>\n",
              "      <th>28</th>\n",
              "      <th>29</th>\n",
              "      <th>30</th>\n",
              "      <th>31</th>\n",
              "      <th>32</th>\n",
              "      <th>33</th>\n",
              "      <th>34</th>\n",
              "    </tr>\n",
              "  </thead>\n",
              "  <tbody>\n",
              "    <tr>\n",
              "      <th>0</th>\n",
              "      <td>1</td>\n",
              "      <td>0</td>\n",
              "      <td>0.99539</td>\n",
              "      <td>-0.05889</td>\n",
              "      <td>0.85243</td>\n",
              "      <td>0.02306</td>\n",
              "      <td>0.83398</td>\n",
              "      <td>-0.37708</td>\n",
              "      <td>1.00000</td>\n",
              "      <td>0.03760</td>\n",
              "      <td>0.85243</td>\n",
              "      <td>-0.17755</td>\n",
              "      <td>0.59755</td>\n",
              "      <td>-0.44945</td>\n",
              "      <td>0.60536</td>\n",
              "      <td>-0.38223</td>\n",
              "      <td>0.84356</td>\n",
              "      <td>-0.38542</td>\n",
              "      <td>0.58212</td>\n",
              "      <td>-0.32192</td>\n",
              "      <td>0.56971</td>\n",
              "      <td>-0.29674</td>\n",
              "      <td>0.36946</td>\n",
              "      <td>-0.47357</td>\n",
              "      <td>0.56811</td>\n",
              "      <td>-0.51171</td>\n",
              "      <td>0.41078</td>\n",
              "      <td>-0.46168</td>\n",
              "      <td>0.21266</td>\n",
              "      <td>-0.34090</td>\n",
              "      <td>0.42267</td>\n",
              "      <td>-0.54487</td>\n",
              "      <td>0.18641</td>\n",
              "      <td>-0.45300</td>\n",
              "      <td>g</td>\n",
              "    </tr>\n",
              "    <tr>\n",
              "      <th>1</th>\n",
              "      <td>1</td>\n",
              "      <td>0</td>\n",
              "      <td>1.00000</td>\n",
              "      <td>-0.18829</td>\n",
              "      <td>0.93035</td>\n",
              "      <td>-0.36156</td>\n",
              "      <td>-0.10868</td>\n",
              "      <td>-0.93597</td>\n",
              "      <td>1.00000</td>\n",
              "      <td>-0.04549</td>\n",
              "      <td>0.50874</td>\n",
              "      <td>-0.67743</td>\n",
              "      <td>0.34432</td>\n",
              "      <td>-0.69707</td>\n",
              "      <td>-0.51685</td>\n",
              "      <td>-0.97515</td>\n",
              "      <td>0.05499</td>\n",
              "      <td>-0.62237</td>\n",
              "      <td>0.33109</td>\n",
              "      <td>-1.00000</td>\n",
              "      <td>-0.13151</td>\n",
              "      <td>-0.45300</td>\n",
              "      <td>-0.18056</td>\n",
              "      <td>-0.35734</td>\n",
              "      <td>-0.20332</td>\n",
              "      <td>-0.26569</td>\n",
              "      <td>-0.20468</td>\n",
              "      <td>-0.18401</td>\n",
              "      <td>-0.19040</td>\n",
              "      <td>-0.11593</td>\n",
              "      <td>-0.16626</td>\n",
              "      <td>-0.06288</td>\n",
              "      <td>-0.13738</td>\n",
              "      <td>-0.02447</td>\n",
              "      <td>b</td>\n",
              "    </tr>\n",
              "    <tr>\n",
              "      <th>2</th>\n",
              "      <td>1</td>\n",
              "      <td>0</td>\n",
              "      <td>1.00000</td>\n",
              "      <td>-0.03365</td>\n",
              "      <td>1.00000</td>\n",
              "      <td>0.00485</td>\n",
              "      <td>1.00000</td>\n",
              "      <td>-0.12062</td>\n",
              "      <td>0.88965</td>\n",
              "      <td>0.01198</td>\n",
              "      <td>0.73082</td>\n",
              "      <td>0.05346</td>\n",
              "      <td>0.85443</td>\n",
              "      <td>0.00827</td>\n",
              "      <td>0.54591</td>\n",
              "      <td>0.00299</td>\n",
              "      <td>0.83775</td>\n",
              "      <td>-0.13644</td>\n",
              "      <td>0.75535</td>\n",
              "      <td>-0.08540</td>\n",
              "      <td>0.70887</td>\n",
              "      <td>-0.27502</td>\n",
              "      <td>0.43385</td>\n",
              "      <td>-0.12062</td>\n",
              "      <td>0.57528</td>\n",
              "      <td>-0.40220</td>\n",
              "      <td>0.58984</td>\n",
              "      <td>-0.22145</td>\n",
              "      <td>0.43100</td>\n",
              "      <td>-0.17365</td>\n",
              "      <td>0.60436</td>\n",
              "      <td>-0.24180</td>\n",
              "      <td>0.56045</td>\n",
              "      <td>-0.38238</td>\n",
              "      <td>g</td>\n",
              "    </tr>\n",
              "    <tr>\n",
              "      <th>3</th>\n",
              "      <td>1</td>\n",
              "      <td>0</td>\n",
              "      <td>1.00000</td>\n",
              "      <td>-0.45161</td>\n",
              "      <td>1.00000</td>\n",
              "      <td>1.00000</td>\n",
              "      <td>0.71216</td>\n",
              "      <td>-1.00000</td>\n",
              "      <td>0.00000</td>\n",
              "      <td>0.00000</td>\n",
              "      <td>0.00000</td>\n",
              "      <td>0.00000</td>\n",
              "      <td>0.00000</td>\n",
              "      <td>0.00000</td>\n",
              "      <td>-1.00000</td>\n",
              "      <td>0.14516</td>\n",
              "      <td>0.54094</td>\n",
              "      <td>-0.39330</td>\n",
              "      <td>-1.00000</td>\n",
              "      <td>-0.54467</td>\n",
              "      <td>-0.69975</td>\n",
              "      <td>1.00000</td>\n",
              "      <td>0.00000</td>\n",
              "      <td>0.00000</td>\n",
              "      <td>1.00000</td>\n",
              "      <td>0.90695</td>\n",
              "      <td>0.51613</td>\n",
              "      <td>1.00000</td>\n",
              "      <td>1.00000</td>\n",
              "      <td>-0.20099</td>\n",
              "      <td>0.25682</td>\n",
              "      <td>1.00000</td>\n",
              "      <td>-0.32382</td>\n",
              "      <td>1.00000</td>\n",
              "      <td>b</td>\n",
              "    </tr>\n",
              "    <tr>\n",
              "      <th>4</th>\n",
              "      <td>1</td>\n",
              "      <td>0</td>\n",
              "      <td>1.00000</td>\n",
              "      <td>-0.02401</td>\n",
              "      <td>0.94140</td>\n",
              "      <td>0.06531</td>\n",
              "      <td>0.92106</td>\n",
              "      <td>-0.23255</td>\n",
              "      <td>0.77152</td>\n",
              "      <td>-0.16399</td>\n",
              "      <td>0.52798</td>\n",
              "      <td>-0.20275</td>\n",
              "      <td>0.56409</td>\n",
              "      <td>-0.00712</td>\n",
              "      <td>0.34395</td>\n",
              "      <td>-0.27457</td>\n",
              "      <td>0.52940</td>\n",
              "      <td>-0.21780</td>\n",
              "      <td>0.45107</td>\n",
              "      <td>-0.17813</td>\n",
              "      <td>0.05982</td>\n",
              "      <td>-0.35575</td>\n",
              "      <td>0.02309</td>\n",
              "      <td>-0.52879</td>\n",
              "      <td>0.03286</td>\n",
              "      <td>-0.65158</td>\n",
              "      <td>0.13290</td>\n",
              "      <td>-0.53206</td>\n",
              "      <td>0.02431</td>\n",
              "      <td>-0.62197</td>\n",
              "      <td>-0.05707</td>\n",
              "      <td>-0.59573</td>\n",
              "      <td>-0.04608</td>\n",
              "      <td>-0.65697</td>\n",
              "      <td>g</td>\n",
              "    </tr>\n",
              "  </tbody>\n",
              "</table>\n",
              "</div>"
            ],
            "text/plain": [
              "   0   1        2        3        4   ...       30       31       32       33  34\n",
              "0   1   0  0.99539 -0.05889  0.85243  ...  0.42267 -0.54487  0.18641 -0.45300   g\n",
              "1   1   0  1.00000 -0.18829  0.93035  ... -0.16626 -0.06288 -0.13738 -0.02447   b\n",
              "2   1   0  1.00000 -0.03365  1.00000  ...  0.60436 -0.24180  0.56045 -0.38238   g\n",
              "3   1   0  1.00000 -0.45161  1.00000  ...  0.25682  1.00000 -0.32382  1.00000   b\n",
              "4   1   0  1.00000 -0.02401  0.94140  ... -0.05707 -0.59573 -0.04608 -0.65697   g\n",
              "\n",
              "[5 rows x 35 columns]"
            ]
          },
          "metadata": {},
          "execution_count": 245
        }
      ]
    },
    {
      "cell_type": "code",
      "metadata": {
        "id": "6EARCppWZhY5"
      },
      "source": [
        "from sklearn.preprocessing import LabelEncoder\n",
        "x = df.values[:, :-1]\n",
        "y = df.values[:, -1]\n",
        "x = x.astype('float32')\n",
        "y = LabelEncoder().fit_transform(y)\n",
        "y = y.astype('float32')\n",
        "y = y.reshape((len(y), 1))"
      ],
      "execution_count": null,
      "outputs": []
    },
    {
      "cell_type": "code",
      "metadata": {
        "colab": {
          "base_uri": "https://localhost:8080/"
        },
        "id": "9QHV00arZ6v5",
        "outputId": "dc09ff15-8d92-47e0-8e9f-989a81550058"
      },
      "source": [
        "x"
      ],
      "execution_count": null,
      "outputs": [
        {
          "output_type": "execute_result",
          "data": {
            "text/plain": [
              "array([[ 1.     ,  0.     ,  0.99539, ..., -0.54487,  0.18641, -0.453  ],\n",
              "       [ 1.     ,  0.     ,  1.     , ..., -0.06288, -0.13738, -0.02447],\n",
              "       [ 1.     ,  0.     ,  1.     , ..., -0.2418 ,  0.56045, -0.38238],\n",
              "       ...,\n",
              "       [ 1.     ,  0.     ,  0.94701, ...,  0.00442,  0.92697, -0.00577],\n",
              "       [ 1.     ,  0.     ,  0.90608, ..., -0.03757,  0.87403, -0.16243],\n",
              "       [ 1.     ,  0.     ,  0.8471 , ..., -0.06678,  0.85764, -0.06151]],\n",
              "      dtype=float32)"
            ]
          },
          "metadata": {},
          "execution_count": 11
        }
      ]
    },
    {
      "cell_type": "code",
      "metadata": {
        "id": "isZaj5yIZ8F2"
      },
      "source": [
        "y"
      ],
      "execution_count": null,
      "outputs": []
    },
    {
      "cell_type": "code",
      "metadata": {
        "colab": {
          "base_uri": "https://localhost:8080/",
          "height": 443
        },
        "id": "J-jT9qNKawTS",
        "outputId": "2e19229b-2fae-4130-d539-881ae30cf024"
      },
      "source": [
        "df"
      ],
      "execution_count": null,
      "outputs": [
        {
          "output_type": "execute_result",
          "data": {
            "text/html": [
              "<div>\n",
              "<style scoped>\n",
              "    .dataframe tbody tr th:only-of-type {\n",
              "        vertical-align: middle;\n",
              "    }\n",
              "\n",
              "    .dataframe tbody tr th {\n",
              "        vertical-align: top;\n",
              "    }\n",
              "\n",
              "    .dataframe thead th {\n",
              "        text-align: right;\n",
              "    }\n",
              "</style>\n",
              "<table border=\"1\" class=\"dataframe\">\n",
              "  <thead>\n",
              "    <tr style=\"text-align: right;\">\n",
              "      <th></th>\n",
              "      <th>0</th>\n",
              "      <th>1</th>\n",
              "      <th>2</th>\n",
              "      <th>3</th>\n",
              "      <th>4</th>\n",
              "      <th>5</th>\n",
              "      <th>6</th>\n",
              "      <th>7</th>\n",
              "      <th>8</th>\n",
              "      <th>9</th>\n",
              "      <th>10</th>\n",
              "      <th>11</th>\n",
              "      <th>12</th>\n",
              "      <th>13</th>\n",
              "      <th>14</th>\n",
              "      <th>15</th>\n",
              "      <th>16</th>\n",
              "      <th>17</th>\n",
              "      <th>18</th>\n",
              "      <th>19</th>\n",
              "      <th>20</th>\n",
              "      <th>21</th>\n",
              "      <th>22</th>\n",
              "      <th>23</th>\n",
              "      <th>24</th>\n",
              "      <th>25</th>\n",
              "      <th>26</th>\n",
              "      <th>27</th>\n",
              "      <th>28</th>\n",
              "      <th>29</th>\n",
              "      <th>30</th>\n",
              "      <th>31</th>\n",
              "      <th>32</th>\n",
              "      <th>33</th>\n",
              "      <th>34</th>\n",
              "    </tr>\n",
              "  </thead>\n",
              "  <tbody>\n",
              "    <tr>\n",
              "      <th>0</th>\n",
              "      <td>1</td>\n",
              "      <td>0</td>\n",
              "      <td>0.99539</td>\n",
              "      <td>-0.05889</td>\n",
              "      <td>0.85243</td>\n",
              "      <td>0.02306</td>\n",
              "      <td>0.83398</td>\n",
              "      <td>-0.37708</td>\n",
              "      <td>1.00000</td>\n",
              "      <td>0.03760</td>\n",
              "      <td>0.85243</td>\n",
              "      <td>-0.17755</td>\n",
              "      <td>0.59755</td>\n",
              "      <td>-0.44945</td>\n",
              "      <td>0.60536</td>\n",
              "      <td>-0.38223</td>\n",
              "      <td>0.84356</td>\n",
              "      <td>-0.38542</td>\n",
              "      <td>0.58212</td>\n",
              "      <td>-0.32192</td>\n",
              "      <td>0.56971</td>\n",
              "      <td>-0.29674</td>\n",
              "      <td>0.36946</td>\n",
              "      <td>-0.47357</td>\n",
              "      <td>0.56811</td>\n",
              "      <td>-0.51171</td>\n",
              "      <td>0.41078</td>\n",
              "      <td>-0.46168</td>\n",
              "      <td>0.21266</td>\n",
              "      <td>-0.34090</td>\n",
              "      <td>0.42267</td>\n",
              "      <td>-0.54487</td>\n",
              "      <td>0.18641</td>\n",
              "      <td>-0.45300</td>\n",
              "      <td>g</td>\n",
              "    </tr>\n",
              "    <tr>\n",
              "      <th>1</th>\n",
              "      <td>1</td>\n",
              "      <td>0</td>\n",
              "      <td>1.00000</td>\n",
              "      <td>-0.18829</td>\n",
              "      <td>0.93035</td>\n",
              "      <td>-0.36156</td>\n",
              "      <td>-0.10868</td>\n",
              "      <td>-0.93597</td>\n",
              "      <td>1.00000</td>\n",
              "      <td>-0.04549</td>\n",
              "      <td>0.50874</td>\n",
              "      <td>-0.67743</td>\n",
              "      <td>0.34432</td>\n",
              "      <td>-0.69707</td>\n",
              "      <td>-0.51685</td>\n",
              "      <td>-0.97515</td>\n",
              "      <td>0.05499</td>\n",
              "      <td>-0.62237</td>\n",
              "      <td>0.33109</td>\n",
              "      <td>-1.00000</td>\n",
              "      <td>-0.13151</td>\n",
              "      <td>-0.45300</td>\n",
              "      <td>-0.18056</td>\n",
              "      <td>-0.35734</td>\n",
              "      <td>-0.20332</td>\n",
              "      <td>-0.26569</td>\n",
              "      <td>-0.20468</td>\n",
              "      <td>-0.18401</td>\n",
              "      <td>-0.19040</td>\n",
              "      <td>-0.11593</td>\n",
              "      <td>-0.16626</td>\n",
              "      <td>-0.06288</td>\n",
              "      <td>-0.13738</td>\n",
              "      <td>-0.02447</td>\n",
              "      <td>b</td>\n",
              "    </tr>\n",
              "    <tr>\n",
              "      <th>2</th>\n",
              "      <td>1</td>\n",
              "      <td>0</td>\n",
              "      <td>1.00000</td>\n",
              "      <td>-0.03365</td>\n",
              "      <td>1.00000</td>\n",
              "      <td>0.00485</td>\n",
              "      <td>1.00000</td>\n",
              "      <td>-0.12062</td>\n",
              "      <td>0.88965</td>\n",
              "      <td>0.01198</td>\n",
              "      <td>0.73082</td>\n",
              "      <td>0.05346</td>\n",
              "      <td>0.85443</td>\n",
              "      <td>0.00827</td>\n",
              "      <td>0.54591</td>\n",
              "      <td>0.00299</td>\n",
              "      <td>0.83775</td>\n",
              "      <td>-0.13644</td>\n",
              "      <td>0.75535</td>\n",
              "      <td>-0.08540</td>\n",
              "      <td>0.70887</td>\n",
              "      <td>-0.27502</td>\n",
              "      <td>0.43385</td>\n",
              "      <td>-0.12062</td>\n",
              "      <td>0.57528</td>\n",
              "      <td>-0.40220</td>\n",
              "      <td>0.58984</td>\n",
              "      <td>-0.22145</td>\n",
              "      <td>0.43100</td>\n",
              "      <td>-0.17365</td>\n",
              "      <td>0.60436</td>\n",
              "      <td>-0.24180</td>\n",
              "      <td>0.56045</td>\n",
              "      <td>-0.38238</td>\n",
              "      <td>g</td>\n",
              "    </tr>\n",
              "    <tr>\n",
              "      <th>3</th>\n",
              "      <td>1</td>\n",
              "      <td>0</td>\n",
              "      <td>1.00000</td>\n",
              "      <td>-0.45161</td>\n",
              "      <td>1.00000</td>\n",
              "      <td>1.00000</td>\n",
              "      <td>0.71216</td>\n",
              "      <td>-1.00000</td>\n",
              "      <td>0.00000</td>\n",
              "      <td>0.00000</td>\n",
              "      <td>0.00000</td>\n",
              "      <td>0.00000</td>\n",
              "      <td>0.00000</td>\n",
              "      <td>0.00000</td>\n",
              "      <td>-1.00000</td>\n",
              "      <td>0.14516</td>\n",
              "      <td>0.54094</td>\n",
              "      <td>-0.39330</td>\n",
              "      <td>-1.00000</td>\n",
              "      <td>-0.54467</td>\n",
              "      <td>-0.69975</td>\n",
              "      <td>1.00000</td>\n",
              "      <td>0.00000</td>\n",
              "      <td>0.00000</td>\n",
              "      <td>1.00000</td>\n",
              "      <td>0.90695</td>\n",
              "      <td>0.51613</td>\n",
              "      <td>1.00000</td>\n",
              "      <td>1.00000</td>\n",
              "      <td>-0.20099</td>\n",
              "      <td>0.25682</td>\n",
              "      <td>1.00000</td>\n",
              "      <td>-0.32382</td>\n",
              "      <td>1.00000</td>\n",
              "      <td>b</td>\n",
              "    </tr>\n",
              "    <tr>\n",
              "      <th>4</th>\n",
              "      <td>1</td>\n",
              "      <td>0</td>\n",
              "      <td>1.00000</td>\n",
              "      <td>-0.02401</td>\n",
              "      <td>0.94140</td>\n",
              "      <td>0.06531</td>\n",
              "      <td>0.92106</td>\n",
              "      <td>-0.23255</td>\n",
              "      <td>0.77152</td>\n",
              "      <td>-0.16399</td>\n",
              "      <td>0.52798</td>\n",
              "      <td>-0.20275</td>\n",
              "      <td>0.56409</td>\n",
              "      <td>-0.00712</td>\n",
              "      <td>0.34395</td>\n",
              "      <td>-0.27457</td>\n",
              "      <td>0.52940</td>\n",
              "      <td>-0.21780</td>\n",
              "      <td>0.45107</td>\n",
              "      <td>-0.17813</td>\n",
              "      <td>0.05982</td>\n",
              "      <td>-0.35575</td>\n",
              "      <td>0.02309</td>\n",
              "      <td>-0.52879</td>\n",
              "      <td>0.03286</td>\n",
              "      <td>-0.65158</td>\n",
              "      <td>0.13290</td>\n",
              "      <td>-0.53206</td>\n",
              "      <td>0.02431</td>\n",
              "      <td>-0.62197</td>\n",
              "      <td>-0.05707</td>\n",
              "      <td>-0.59573</td>\n",
              "      <td>-0.04608</td>\n",
              "      <td>-0.65697</td>\n",
              "      <td>g</td>\n",
              "    </tr>\n",
              "    <tr>\n",
              "      <th>...</th>\n",
              "      <td>...</td>\n",
              "      <td>...</td>\n",
              "      <td>...</td>\n",
              "      <td>...</td>\n",
              "      <td>...</td>\n",
              "      <td>...</td>\n",
              "      <td>...</td>\n",
              "      <td>...</td>\n",
              "      <td>...</td>\n",
              "      <td>...</td>\n",
              "      <td>...</td>\n",
              "      <td>...</td>\n",
              "      <td>...</td>\n",
              "      <td>...</td>\n",
              "      <td>...</td>\n",
              "      <td>...</td>\n",
              "      <td>...</td>\n",
              "      <td>...</td>\n",
              "      <td>...</td>\n",
              "      <td>...</td>\n",
              "      <td>...</td>\n",
              "      <td>...</td>\n",
              "      <td>...</td>\n",
              "      <td>...</td>\n",
              "      <td>...</td>\n",
              "      <td>...</td>\n",
              "      <td>...</td>\n",
              "      <td>...</td>\n",
              "      <td>...</td>\n",
              "      <td>...</td>\n",
              "      <td>...</td>\n",
              "      <td>...</td>\n",
              "      <td>...</td>\n",
              "      <td>...</td>\n",
              "      <td>...</td>\n",
              "    </tr>\n",
              "    <tr>\n",
              "      <th>346</th>\n",
              "      <td>1</td>\n",
              "      <td>0</td>\n",
              "      <td>0.83508</td>\n",
              "      <td>0.08298</td>\n",
              "      <td>0.73739</td>\n",
              "      <td>-0.14706</td>\n",
              "      <td>0.84349</td>\n",
              "      <td>-0.05567</td>\n",
              "      <td>0.90441</td>\n",
              "      <td>-0.04622</td>\n",
              "      <td>0.89391</td>\n",
              "      <td>0.13130</td>\n",
              "      <td>0.81197</td>\n",
              "      <td>0.06723</td>\n",
              "      <td>0.79307</td>\n",
              "      <td>-0.08929</td>\n",
              "      <td>1.00000</td>\n",
              "      <td>-0.02101</td>\n",
              "      <td>0.96639</td>\n",
              "      <td>0.06618</td>\n",
              "      <td>0.87605</td>\n",
              "      <td>0.01155</td>\n",
              "      <td>0.77521</td>\n",
              "      <td>0.06618</td>\n",
              "      <td>0.95378</td>\n",
              "      <td>-0.04202</td>\n",
              "      <td>0.83479</td>\n",
              "      <td>0.00123</td>\n",
              "      <td>1.00000</td>\n",
              "      <td>0.12815</td>\n",
              "      <td>0.86660</td>\n",
              "      <td>-0.10714</td>\n",
              "      <td>0.90546</td>\n",
              "      <td>-0.04307</td>\n",
              "      <td>g</td>\n",
              "    </tr>\n",
              "    <tr>\n",
              "      <th>347</th>\n",
              "      <td>1</td>\n",
              "      <td>0</td>\n",
              "      <td>0.95113</td>\n",
              "      <td>0.00419</td>\n",
              "      <td>0.95183</td>\n",
              "      <td>-0.02723</td>\n",
              "      <td>0.93438</td>\n",
              "      <td>-0.01920</td>\n",
              "      <td>0.94590</td>\n",
              "      <td>0.01606</td>\n",
              "      <td>0.96510</td>\n",
              "      <td>0.03281</td>\n",
              "      <td>0.94171</td>\n",
              "      <td>0.07330</td>\n",
              "      <td>0.94625</td>\n",
              "      <td>-0.01326</td>\n",
              "      <td>0.97173</td>\n",
              "      <td>0.00140</td>\n",
              "      <td>0.94834</td>\n",
              "      <td>0.06038</td>\n",
              "      <td>0.92670</td>\n",
              "      <td>0.08412</td>\n",
              "      <td>0.93124</td>\n",
              "      <td>0.10087</td>\n",
              "      <td>0.94520</td>\n",
              "      <td>0.01361</td>\n",
              "      <td>0.93522</td>\n",
              "      <td>0.04925</td>\n",
              "      <td>0.93159</td>\n",
              "      <td>0.08168</td>\n",
              "      <td>0.94066</td>\n",
              "      <td>-0.00035</td>\n",
              "      <td>0.91483</td>\n",
              "      <td>0.04712</td>\n",
              "      <td>g</td>\n",
              "    </tr>\n",
              "    <tr>\n",
              "      <th>348</th>\n",
              "      <td>1</td>\n",
              "      <td>0</td>\n",
              "      <td>0.94701</td>\n",
              "      <td>-0.00034</td>\n",
              "      <td>0.93207</td>\n",
              "      <td>-0.03227</td>\n",
              "      <td>0.95177</td>\n",
              "      <td>-0.03431</td>\n",
              "      <td>0.95584</td>\n",
              "      <td>0.02446</td>\n",
              "      <td>0.94124</td>\n",
              "      <td>0.01766</td>\n",
              "      <td>0.92595</td>\n",
              "      <td>0.04688</td>\n",
              "      <td>0.93954</td>\n",
              "      <td>-0.01461</td>\n",
              "      <td>0.94837</td>\n",
              "      <td>0.02004</td>\n",
              "      <td>0.93784</td>\n",
              "      <td>0.01393</td>\n",
              "      <td>0.91406</td>\n",
              "      <td>0.07677</td>\n",
              "      <td>0.89470</td>\n",
              "      <td>0.06148</td>\n",
              "      <td>0.93988</td>\n",
              "      <td>0.03193</td>\n",
              "      <td>0.92489</td>\n",
              "      <td>0.02542</td>\n",
              "      <td>0.92120</td>\n",
              "      <td>0.02242</td>\n",
              "      <td>0.92459</td>\n",
              "      <td>0.00442</td>\n",
              "      <td>0.92697</td>\n",
              "      <td>-0.00577</td>\n",
              "      <td>g</td>\n",
              "    </tr>\n",
              "    <tr>\n",
              "      <th>349</th>\n",
              "      <td>1</td>\n",
              "      <td>0</td>\n",
              "      <td>0.90608</td>\n",
              "      <td>-0.01657</td>\n",
              "      <td>0.98122</td>\n",
              "      <td>-0.01989</td>\n",
              "      <td>0.95691</td>\n",
              "      <td>-0.03646</td>\n",
              "      <td>0.85746</td>\n",
              "      <td>0.00110</td>\n",
              "      <td>0.89724</td>\n",
              "      <td>-0.03315</td>\n",
              "      <td>0.89061</td>\n",
              "      <td>-0.01436</td>\n",
              "      <td>0.90608</td>\n",
              "      <td>-0.04530</td>\n",
              "      <td>0.91381</td>\n",
              "      <td>-0.00884</td>\n",
              "      <td>0.80773</td>\n",
              "      <td>-0.12928</td>\n",
              "      <td>0.88729</td>\n",
              "      <td>0.01215</td>\n",
              "      <td>0.92155</td>\n",
              "      <td>-0.02320</td>\n",
              "      <td>0.91050</td>\n",
              "      <td>-0.02099</td>\n",
              "      <td>0.89147</td>\n",
              "      <td>-0.07760</td>\n",
              "      <td>0.82983</td>\n",
              "      <td>-0.17238</td>\n",
              "      <td>0.96022</td>\n",
              "      <td>-0.03757</td>\n",
              "      <td>0.87403</td>\n",
              "      <td>-0.16243</td>\n",
              "      <td>g</td>\n",
              "    </tr>\n",
              "    <tr>\n",
              "      <th>350</th>\n",
              "      <td>1</td>\n",
              "      <td>0</td>\n",
              "      <td>0.84710</td>\n",
              "      <td>0.13533</td>\n",
              "      <td>0.73638</td>\n",
              "      <td>-0.06151</td>\n",
              "      <td>0.87873</td>\n",
              "      <td>0.08260</td>\n",
              "      <td>0.88928</td>\n",
              "      <td>-0.09139</td>\n",
              "      <td>0.78735</td>\n",
              "      <td>0.06678</td>\n",
              "      <td>0.80668</td>\n",
              "      <td>-0.00351</td>\n",
              "      <td>0.79262</td>\n",
              "      <td>-0.01054</td>\n",
              "      <td>0.85764</td>\n",
              "      <td>-0.04569</td>\n",
              "      <td>0.87170</td>\n",
              "      <td>-0.03515</td>\n",
              "      <td>0.81722</td>\n",
              "      <td>-0.09490</td>\n",
              "      <td>0.71002</td>\n",
              "      <td>0.04394</td>\n",
              "      <td>0.86467</td>\n",
              "      <td>-0.15114</td>\n",
              "      <td>0.81147</td>\n",
              "      <td>-0.04822</td>\n",
              "      <td>0.78207</td>\n",
              "      <td>-0.00703</td>\n",
              "      <td>0.75747</td>\n",
              "      <td>-0.06678</td>\n",
              "      <td>0.85764</td>\n",
              "      <td>-0.06151</td>\n",
              "      <td>g</td>\n",
              "    </tr>\n",
              "  </tbody>\n",
              "</table>\n",
              "<p>351 rows × 35 columns</p>\n",
              "</div>"
            ],
            "text/plain": [
              "     0   1        2        3        4   ...       30       31       32       33  34\n",
              "0     1   0  0.99539 -0.05889  0.85243  ...  0.42267 -0.54487  0.18641 -0.45300   g\n",
              "1     1   0  1.00000 -0.18829  0.93035  ... -0.16626 -0.06288 -0.13738 -0.02447   b\n",
              "2     1   0  1.00000 -0.03365  1.00000  ...  0.60436 -0.24180  0.56045 -0.38238   g\n",
              "3     1   0  1.00000 -0.45161  1.00000  ...  0.25682  1.00000 -0.32382  1.00000   b\n",
              "4     1   0  1.00000 -0.02401  0.94140  ... -0.05707 -0.59573 -0.04608 -0.65697   g\n",
              "..   ..  ..      ...      ...      ...  ...      ...      ...      ...      ...  ..\n",
              "346   1   0  0.83508  0.08298  0.73739  ...  0.86660 -0.10714  0.90546 -0.04307   g\n",
              "347   1   0  0.95113  0.00419  0.95183  ...  0.94066 -0.00035  0.91483  0.04712   g\n",
              "348   1   0  0.94701 -0.00034  0.93207  ...  0.92459  0.00442  0.92697 -0.00577   g\n",
              "349   1   0  0.90608 -0.01657  0.98122  ...  0.96022 -0.03757  0.87403 -0.16243   g\n",
              "350   1   0  0.84710  0.13533  0.73638  ...  0.75747 -0.06678  0.85764 -0.06151   g\n",
              "\n",
              "[351 rows x 35 columns]"
            ]
          },
          "metadata": {},
          "execution_count": 16
        }
      ]
    },
    {
      "cell_type": "code",
      "metadata": {
        "id": "3LjL3_DTdeIq"
      },
      "source": [
        "def __len__(x):\n",
        "  return len(x)"
      ],
      "execution_count": null,
      "outputs": []
    },
    {
      "cell_type": "code",
      "metadata": {
        "id": "QoSeThdGaFQF"
      },
      "source": [
        "test_size = round(0.4 * len(x))\n",
        "train_size = len(x) - test_size\n",
        "from torch.utils.data import random_split\n",
        "train,test=random_split(df, [train_size, test_size])\n"
      ],
      "execution_count": null,
      "outputs": []
    },
    {
      "cell_type": "code",
      "metadata": {
        "colab": {
          "base_uri": "https://localhost:8080/"
        },
        "id": "WVvHdYwmbT6b",
        "outputId": "65764751-6f51-4382-89c4-7a7cbe874f40"
      },
      "source": [
        "from torch.utils.data import DataLoader\n",
        "train_dl = DataLoader(train, batch_size=32, shuffle=True)\n",
        "test_dl = DataLoader(test, batch_size=1024, shuffle=False)\n",
        "len(test_dl)"
      ],
      "execution_count": null,
      "outputs": [
        {
          "output_type": "execute_result",
          "data": {
            "text/plain": [
              "1"
            ]
          },
          "metadata": {},
          "execution_count": 37
        }
      ]
    },
    {
      "cell_type": "code",
      "metadata": {
        "id": "OMq9HiB0bwlc"
      },
      "source": [
        "from torch import Tensor\n",
        "from torch.nn import Linear\n",
        "from torch.nn import ReLU\n",
        "from torch.nn import Sigmoid\n",
        "from torch.nn import Module\n",
        "from torch.optim import SGD\n",
        "from torch.nn import BCELoss\n",
        "from torch.nn.init import kaiming_uniform_\n",
        "from torch.nn.init import xavier_uniform_\n",
        "\n",
        "from numpy import vstack\n",
        "\n",
        "from sklearn.metrics import accuracy_score"
      ],
      "execution_count": null,
      "outputs": []
    },
    {
      "cell_type": "code",
      "metadata": {
        "id": "Rhmtlnz9c5iY"
      },
      "source": [
        "class loaddata(Dataset):\n",
        "    def __init__(self, path):\n",
        "        df = read_csv(path, header=None)\n",
        "        self.X = df.values[:, :-1]\n",
        "        self.y = df.values[:, -1]\n",
        "        self.X = self.X.astype('float32')\n",
        "        self.y = LabelEncoder().fit_transform(self.y)\n",
        "        self.y = self.y.astype('float32')\n",
        "        self.y = self.y.reshape((len(self.y), 1))\n",
        "\n",
        "    def __len__(self):\n",
        "        return len(self.X)\n",
        "\n",
        "    def __getitem__(self, idx):\n",
        "        return [self.X[idx], self.y[idx]]\n",
        "\n",
        "    def get_splits(self, n_test=0.33):\n",
        "        test_size = round(n_test * len(self.X))\n",
        "        train_size = len(self.X) - test_size\n",
        "        return random_split(self, [train_size, test_size])"
      ],
      "execution_count": null,
      "outputs": []
    },
    {
      "cell_type": "code",
      "metadata": {
        "id": "kZzUGL1DdzXG"
      },
      "source": [
        "def prepare_data(path):\n",
        "    dataset = loaddata(path)\n",
        "\n",
        "    train, test = dataset.get_splits()\n",
        "  \n",
        "    train_dl = DataLoader(train, batch_size=32, shuffle=True)\n",
        "    test_dl = DataLoader(test, batch_size=1024, shuffle=False)\n",
        "    return train_dl, test_dl"
      ],
      "execution_count": null,
      "outputs": []
    },
    {
      "cell_type": "code",
      "metadata": {
        "colab": {
          "base_uri": "https://localhost:8080/"
        },
        "id": "he9iZnlld-_p",
        "outputId": "523138a8-9913-4452-ca9d-2be0a46d2658"
      },
      "source": [
        "path = 'https://raw.githubusercontent.com/jbrownlee/Datasets/master/ionosphere.csv'\n",
        "train_dl, test_dl = prepare_data(path)\n",
        "train_dl"
      ],
      "execution_count": null,
      "outputs": [
        {
          "output_type": "execute_result",
          "data": {
            "text/plain": [
              "<torch.utils.data.dataloader.DataLoader at 0x7fc97b80e650>"
            ]
          },
          "metadata": {},
          "execution_count": 247
        }
      ]
    },
    {
      "cell_type": "code",
      "metadata": {
        "id": "pvcwbkNOrqS4"
      },
      "source": [
        ""
      ],
      "execution_count": null,
      "outputs": []
    },
    {
      "cell_type": "markdown",
      "metadata": {
        "id": "pJWHqv5wrKTD"
      },
      "source": [
        "fully connected 3 layer network nonlinearity used ReLU, ReLU,Sigmoid in the respective layers"
      ]
    },
    {
      "cell_type": "markdown",
      "metadata": {
        "id": "vocHmVw2rqyv"
      },
      "source": [
        ""
      ]
    },
    {
      "cell_type": "code",
      "metadata": {
        "id": "d_3PKhMFeHju"
      },
      "source": [
        "class NeuralNetwork(Module):\n",
        "    \n",
        "    def __init__(self, n_inputs):\n",
        "        super(NeuralNetwork, self).__init__()\n",
        "        self.hidden1 = Linear(n_inputs, 10)\n",
        "        kaiming_uniform_(self.hidden1.weight, nonlinearity='relu')\n",
        "        self.act1 = ReLU()\n",
        "        self.hidden2 = Linear(10, 8)\n",
        "        kaiming_uniform_(self.hidden2.weight, nonlinearity='relu')\n",
        "        self.act2 = ReLU()\n",
        "        self.hidden3 = Linear(8, 1)\n",
        "        xavier_uniform_(self.hidden3.weight)\n",
        "        self.act3 = Sigmoid()\n",
        " \n",
        "  \n",
        "    def forward(self, X):\n",
        "        X = self.hidden1(X)\n",
        "        X = self.act1(X)\n",
        "        X = self.hidden2(X)\n",
        "        X = self.act2(X)\n",
        "        X = self.hidden3(X)\n",
        "        X = self.act3(X)\n",
        "        return X"
      ],
      "execution_count": null,
      "outputs": []
    },
    {
      "cell_type": "markdown",
      "metadata": {
        "id": "2XCvW-b7rwOB"
      },
      "source": [
        "fully connected 4 layer network nonlinearity used  ReLU activation in the all layers except last layer where we have sigmoid activation"
      ]
    },
    {
      "cell_type": "code",
      "metadata": {
        "id": "M2SuEl_Qr2x-"
      },
      "source": [
        "class NeuralNetwork22(Module):\n",
        "    \n",
        "    def __init__(self, n_inputs):\n",
        "        super(NeuralNetwork22, self).__init__()\n",
        "        self.hidden1 = Linear(n_inputs, 10)\n",
        "        kaiming_uniform_(self.hidden1.weight, nonlinearity='relu')\n",
        "        self.act1 = ReLU()\n",
        "        self.hidden2 = Linear(10, 8)\n",
        "        kaiming_uniform_(self.hidden2.weight, nonlinearity='relu')\n",
        "        self.act2 = ReLU()\n",
        "        self.hidden3 = Linear(8, 4)\n",
        "        kaiming_uniform_(self.hidden3.weight, nonlinearity='relu')\n",
        "        self.act3 = ReLU()\n",
        "        self.hidden4 = Linear(4, 1)\n",
        "        xavier_uniform_(self.hidden4.weight)\n",
        "        self.act4 = Sigmoid()\n",
        " \n",
        "  \n",
        "    def forward(self, X):\n",
        "        X = self.hidden1(X)\n",
        "        X = self.act1(X)\n",
        "        X = self.hidden2(X)\n",
        "        X = self.act2(X)\n",
        "        X = self.hidden3(X)\n",
        "        X = self.act3(X)\n",
        "        X = self.hidden4(X)\n",
        "        X = self.act4(X)\n",
        "        return X"
      ],
      "execution_count": null,
      "outputs": []
    },
    {
      "cell_type": "markdown",
      "metadata": {
        "id": "fGdRSYkBu5Hk"
      },
      "source": [
        "fully connected 2 layer network nonlinearity used  ReLU activation layers and sigmoid activation"
      ]
    },
    {
      "cell_type": "code",
      "metadata": {
        "id": "GVIexwA1u5-c"
      },
      "source": [
        "class NeuralNetwork23(Module):\n",
        "    \n",
        "    def __init__(self, n_inputs):\n",
        "        super(NeuralNetwork23, self).__init__()\n",
        "        self.hidden1 = Linear(n_inputs, 10)\n",
        "        kaiming_uniform_(self.hidden1.weight, nonlinearity='relu')\n",
        "        self.act1 = ReLU()\n",
        "        self.hidden2 = Linear(10, 1)\n",
        "        xavier_uniform_(self.hidden2.weight)\n",
        "        self.act2 = Sigmoid()\n",
        " \n",
        "  \n",
        "    def forward(self, X):\n",
        "        X = self.hidden1(X)\n",
        "        X = self.act1(X)\n",
        "        X = self.hidden2(X)\n",
        "        X = self.act2(X)\n",
        "        return X"
      ],
      "execution_count": null,
      "outputs": []
    },
    {
      "cell_type": "code",
      "metadata": {
        "id": "xwOBzS9meXFw"
      },
      "source": [
        "def train_model(train_dl, model,epochs):\n",
        "    criterion = BCELoss()\n",
        "    optimizer = SGD(model.parameters(), lr=0.01, momentum=0.9)\n",
        "    for epoch in range(epochs):\n",
        "        for i, (inputs, targets) in enumerate(train_dl):\n",
        "            optimizer.zero_grad()\n",
        "            yhat = model(inputs)\n",
        "            loss = criterion(yhat, targets)\n",
        "            loss.backward()\n",
        "            optimizer.step()"
      ],
      "execution_count": null,
      "outputs": []
    },
    {
      "cell_type": "code",
      "metadata": {
        "id": "kItq6mdmey8Z"
      },
      "source": [
        "def predict(row, model):\n",
        "    row = Tensor([row])\n",
        "    yhat = model(row)\n",
        "    yhat = yhat.detach().numpy()\n",
        "    return yhat"
      ],
      "execution_count": null,
      "outputs": []
    },
    {
      "cell_type": "code",
      "metadata": {
        "id": "vz6eDK4NerIb"
      },
      "source": [
        "def evaluate_model(test_dl, model):\n",
        "    predictions, actuals = list(), list()\n",
        "    for i, (inputs, targets) in enumerate(test_dl):\n",
        "        yhat = model(inputs)\n",
        "        yhat = yhat.detach().numpy()\n",
        "        actual = targets.numpy()\n",
        "        actual = actual.reshape((len(actual), 1))\n",
        "        yhat = yhat.round()\n",
        "        predictions.append(yhat)\n",
        "        actuals.append(actual)\n",
        "    predictions, actuals = vstack(predictions), vstack(actuals)\n",
        "    acc = accuracy_score(actuals, predictions)\n",
        "    return acc"
      ],
      "execution_count": null,
      "outputs": []
    },
    {
      "cell_type": "markdown",
      "metadata": {
        "id": "M2pCAXgiv6LK"
      },
      "source": [
        "result using  4 layer network "
      ]
    },
    {
      "cell_type": "code",
      "metadata": {
        "colab": {
          "base_uri": "https://localhost:8080/"
        },
        "id": "5kft09lpsUY2",
        "outputId": "698c74f6-5d04-4a98-8b80-12da7ba86791"
      },
      "source": [
        "model = NeuralNetwork22(34)\n",
        "train_model(train_dl, model,100)\n",
        "\n",
        "acc = evaluate_model(test_dl, model)\n",
        "\n",
        "print(\"test_acc\",acc)\n",
        "acc = evaluate_model(train_dl, model)\n",
        "\n",
        "print(\"train_acc\",acc)"
      ],
      "execution_count": null,
      "outputs": [
        {
          "output_type": "stream",
          "name": "stdout",
          "text": [
            "test_acc 0.9655172413793104\n",
            "train_acc 0.9914893617021276\n"
          ]
        }
      ]
    },
    {
      "cell_type": "markdown",
      "metadata": {
        "id": "Ik-94a5zv0-X"
      },
      "source": [
        "result using  2 layer network "
      ]
    },
    {
      "cell_type": "code",
      "metadata": {
        "colab": {
          "base_uri": "https://localhost:8080/"
        },
        "id": "0mzPFYnlu1Su",
        "outputId": "28aaff94-2578-4ad7-9cee-b8ebe943b598"
      },
      "source": [
        "model = NeuralNetwork23(34)\n",
        "train_model(train_dl, model,100)\n",
        "\n",
        "acc = evaluate_model(test_dl, model)\n",
        "\n",
        "print(\"test_acc\",acc)\n",
        "acc = evaluate_model(train_dl, model)\n",
        "\n",
        "print(\"train_acc\",acc)"
      ],
      "execution_count": null,
      "outputs": [
        {
          "output_type": "stream",
          "name": "stdout",
          "text": [
            "test_acc 0.9741379310344828\n",
            "train_acc 0.9829787234042553\n"
          ]
        }
      ]
    },
    {
      "cell_type": "markdown",
      "metadata": {
        "id": "mFwadsX9v8Zu"
      },
      "source": [
        "result using  3 layer network "
      ]
    },
    {
      "cell_type": "code",
      "metadata": {
        "colab": {
          "base_uri": "https://localhost:8080/"
        },
        "id": "px8Tl-MLvip5",
        "outputId": "403c5688-d6fc-4ce0-f559-5b83ae84fa6f"
      },
      "source": [
        "model = NeuralNetwork(34)\n",
        "train_model(train_dl, model,100)\n",
        "\n",
        "acc = evaluate_model(test_dl, model)\n",
        "\n",
        "print(\"test_acc\",acc)\n",
        "acc = evaluate_model(train_dl, model)\n",
        "\n",
        "print(\"train_acc\",acc)"
      ],
      "execution_count": null,
      "outputs": [
        {
          "output_type": "stream",
          "name": "stdout",
          "text": [
            "test_acc 0.9655172413793104\n",
            "train_acc 0.9914893617021276\n"
          ]
        }
      ]
    },
    {
      "cell_type": "markdown",
      "metadata": {
        "id": "TK8moW-NyTxU"
      },
      "source": [
        "------------------------------------------------------------------Comparing Result by Varying no of epochs in training--------------------------------------------------------------------------------"
      ]
    },
    {
      "cell_type": "code",
      "metadata": {
        "id": "lIQ-Jguie-XL"
      },
      "source": [
        "model = NeuralNetwork(34)"
      ],
      "execution_count": null,
      "outputs": []
    },
    {
      "cell_type": "code",
      "metadata": {
        "id": "clPow4yLhS3c"
      },
      "source": [
        "train_accuracy=[]\n",
        "test_accuracy=[]\n",
        "n_epochs=[]"
      ],
      "execution_count": null,
      "outputs": []
    },
    {
      "cell_type": "code",
      "metadata": {
        "id": "Q7O1VhyEfVxU"
      },
      "source": [
        "train_model(train_dl, model,1)\n",
        "n_epochs.append(1)"
      ],
      "execution_count": null,
      "outputs": []
    },
    {
      "cell_type": "code",
      "metadata": {
        "colab": {
          "base_uri": "https://localhost:8080/"
        },
        "id": "G2MiHivkfeqk",
        "outputId": "58ac6d76-0d63-40d0-b427-eccc9db31787"
      },
      "source": [
        "\n",
        "acc = evaluate_model(test_dl, model)\n",
        "print(\"test_acc\",acc)\n",
        "test_accuracy.append(acc)"
      ],
      "execution_count": null,
      "outputs": [
        {
          "output_type": "stream",
          "name": "stdout",
          "text": [
            "test_acc 0.603448275862069\n"
          ]
        }
      ]
    },
    {
      "cell_type": "code",
      "metadata": {
        "id": "n9GdBIdrsTHp"
      },
      "source": [
        ""
      ],
      "execution_count": null,
      "outputs": []
    },
    {
      "cell_type": "code",
      "metadata": {
        "colab": {
          "base_uri": "https://localhost:8080/"
        },
        "id": "EfhqWF-Sffpv",
        "outputId": "c9bc004f-7a58-445a-c8e2-4c9bd636880b"
      },
      "source": [
        "acc = evaluate_model(train_dl, model)\n",
        "print(\"train_acc\",acc)\n",
        "train_accuracy.append(acc)"
      ],
      "execution_count": null,
      "outputs": [
        {
          "output_type": "stream",
          "name": "stdout",
          "text": [
            "train_acc 0.625531914893617\n"
          ]
        }
      ]
    },
    {
      "cell_type": "code",
      "metadata": {
        "colab": {
          "base_uri": "https://localhost:8080/"
        },
        "id": "6PlDIZqCftuO",
        "outputId": "9503370c-a483-4c9a-b7ec-e04f807952fa"
      },
      "source": [
        "train_model(train_dl, model,5)\n",
        "n_epochs.append(5)\n",
        "acc = evaluate_model(test_dl, model)\n",
        "test_accuracy.append(acc)\n",
        "print(\"test_acc\",acc)\n",
        "acc = evaluate_model(train_dl, model)\n",
        "train_accuracy.append(acc)\n",
        "print(\"train_acc\",acc)"
      ],
      "execution_count": null,
      "outputs": [
        {
          "output_type": "stream",
          "name": "stdout",
          "text": [
            "test_acc 0.8103448275862069\n",
            "train_acc 0.851063829787234\n"
          ]
        }
      ]
    },
    {
      "cell_type": "code",
      "metadata": {
        "colab": {
          "base_uri": "https://localhost:8080/"
        },
        "id": "PRdJ5AYPfvFc",
        "outputId": "e3ba39c8-5da0-401f-f7bd-7ba27b4cc5f1"
      },
      "source": [
        "train_model(train_dl, model,10)\n",
        "n_epochs.append(10)\n",
        "acc = evaluate_model(test_dl, model)\n",
        "test_accuracy.append(acc)\n",
        "print(\"test_acc\",acc)\n",
        "acc = evaluate_model(train_dl, model)\n",
        "train_accuracy.append(acc)\n",
        "print(\"train_acc\",acc)"
      ],
      "execution_count": null,
      "outputs": [
        {
          "output_type": "stream",
          "name": "stdout",
          "text": [
            "test_acc 0.8879310344827587\n",
            "train_acc 0.9234042553191489\n"
          ]
        }
      ]
    },
    {
      "cell_type": "code",
      "metadata": {
        "colab": {
          "base_uri": "https://localhost:8080/"
        },
        "id": "tImhS_Yuf4Th",
        "outputId": "4c71e861-7127-48f3-8071-89e240f9c0e4"
      },
      "source": [
        "train_model(train_dl, model,20)\n",
        "n_epochs.append(20)\n",
        "acc = evaluate_model(test_dl, model)\n",
        "test_accuracy.append(acc)\n",
        "print(\"test_acc\",acc)\n",
        "acc = evaluate_model(train_dl, model)\n",
        "train_accuracy.append(acc)\n",
        "print(\"train_acc\",acc)"
      ],
      "execution_count": null,
      "outputs": [
        {
          "output_type": "stream",
          "name": "stdout",
          "text": [
            "test_acc 0.9051724137931034\n",
            "train_acc 0.9872340425531915\n"
          ]
        }
      ]
    },
    {
      "cell_type": "code",
      "metadata": {
        "colab": {
          "base_uri": "https://localhost:8080/"
        },
        "id": "FmW2pmunf6cy",
        "outputId": "9b1e3527-d302-46cc-9847-bef51e0757c7"
      },
      "source": [
        "train_model(train_dl, model,30)\n",
        "n_epochs.append(30)\n",
        "acc = evaluate_model(test_dl, model)\n",
        "test_accuracy.append(acc)\n",
        "print(\"test_acc\",acc)\n",
        "acc = evaluate_model(train_dl, model)\n",
        "train_accuracy.append(acc)\n",
        "print(\"train_acc\",acc)"
      ],
      "execution_count": null,
      "outputs": [
        {
          "output_type": "stream",
          "name": "stdout",
          "text": [
            "test_acc 0.9137931034482759\n",
            "train_acc 0.9914893617021276\n"
          ]
        }
      ]
    },
    {
      "cell_type": "code",
      "metadata": {
        "colab": {
          "base_uri": "https://localhost:8080/"
        },
        "id": "9_qbHUnlf8zZ",
        "outputId": "3c2436d2-a873-4c6a-fe70-6035292b1b60"
      },
      "source": [
        "train_model(train_dl, model,50)\n",
        "n_epochs.append(50)\n",
        "acc = evaluate_model(test_dl, model)\n",
        "test_accuracy.append(acc)\n",
        "print(\"test_acc\",acc)\n",
        "acc = evaluate_model(train_dl, model)\n",
        "train_accuracy.append(acc)\n",
        "print(\"train_acc\",acc)"
      ],
      "execution_count": null,
      "outputs": [
        {
          "output_type": "stream",
          "name": "stdout",
          "text": [
            "test_acc 0.9137931034482759\n",
            "train_acc 1.0\n"
          ]
        }
      ]
    },
    {
      "cell_type": "code",
      "metadata": {
        "colab": {
          "base_uri": "https://localhost:8080/"
        },
        "id": "0GEUbwp8kObN",
        "outputId": "233d1464-d0ed-446e-9ca1-3d7100e9fb77"
      },
      "source": [
        "train_model(train_dl, model,100)\n",
        "n_epochs.append(100)\n",
        "acc = evaluate_model(test_dl, model)\n",
        "test_accuracy.append(acc)\n",
        "print(\"test_acc\",acc)\n",
        "acc = evaluate_model(train_dl, model)\n",
        "train_accuracy.append(acc)\n",
        "print(\"train_acc\",acc)"
      ],
      "execution_count": null,
      "outputs": [
        {
          "output_type": "stream",
          "name": "stdout",
          "text": [
            "test_acc 0.9051724137931034\n",
            "train_acc 1.0\n"
          ]
        }
      ]
    },
    {
      "cell_type": "code",
      "metadata": {
        "colab": {
          "base_uri": "https://localhost:8080/"
        },
        "id": "ksuEeGaBkSOw",
        "outputId": "9b9d422e-153d-4948-c70a-07535773afbf"
      },
      "source": [
        "train_model(train_dl, model,150)\n",
        "n_epochs.append(150)\n",
        "acc = evaluate_model(test_dl, model)\n",
        "test_accuracy.append(acc)\n",
        "print(\"test_acc\",acc)\n",
        "acc = evaluate_model(train_dl, model)\n",
        "train_accuracy.append(acc)\n",
        "print(\"train_acc\",acc)"
      ],
      "execution_count": null,
      "outputs": [
        {
          "output_type": "stream",
          "name": "stdout",
          "text": [
            "test_acc 0.896551724137931\n",
            "train_acc 1.0\n"
          ]
        }
      ]
    },
    {
      "cell_type": "code",
      "metadata": {
        "colab": {
          "base_uri": "https://localhost:8080/"
        },
        "id": "0MTmcjo5kUxZ",
        "outputId": "095ab0b6-a21c-4419-add7-f9034b2db58f"
      },
      "source": [
        "train_model(train_dl, model,180)\n",
        "n_epochs.append(180)\n",
        "acc = evaluate_model(test_dl, model)\n",
        "test_accuracy.append(acc)\n",
        "print(\"test_acc\",acc)\n",
        "acc = evaluate_model(train_dl, model)\n",
        "train_accuracy.append(acc)\n",
        "print(\"train_acc\",acc)"
      ],
      "execution_count": null,
      "outputs": [
        {
          "output_type": "stream",
          "name": "stdout",
          "text": [
            "test_acc 0.896551724137931\n",
            "train_acc 1.0\n"
          ]
        }
      ]
    },
    {
      "cell_type": "code",
      "metadata": {
        "colab": {
          "base_uri": "https://localhost:8080/"
        },
        "id": "bibMZ-bnkXIq",
        "outputId": "196427e0-7bb1-4ff9-fd5a-6780d4ccc37c"
      },
      "source": [
        "train_model(train_dl, model,200)\n",
        "n_epochs.append(200)\n",
        "acc = evaluate_model(test_dl, model)\n",
        "test_accuracy.append(acc)\n",
        "print(\"test_acc\",acc)\n",
        "acc = evaluate_model(train_dl, model)\n",
        "train_accuracy.append(acc)\n",
        "print(\"train_acc\",acc)"
      ],
      "execution_count": null,
      "outputs": [
        {
          "output_type": "stream",
          "name": "stdout",
          "text": [
            "test_acc 0.896551724137931\n",
            "train_acc 1.0\n"
          ]
        }
      ]
    },
    {
      "cell_type": "code",
      "metadata": {
        "colab": {
          "base_uri": "https://localhost:8080/",
          "height": 296
        },
        "id": "b9ZATG8chxyc",
        "outputId": "ef254cef-c2a1-411a-988a-bc9affb58522"
      },
      "source": [
        "import matplotlib.pyplot as plt\n",
        "import numpy as np\n",
        "x=np.array(test_accuracy)\n",
        "y=np.array(n_epochs)\n",
        "fig = plt.figure()\n",
        "plt.title(\"test_accuracy vs n_epochs\")\n",
        "plt.xlabel(\"test_accuracy\")\n",
        "plt.ylabel(\"n_epochs\")\n",
        "plt.plot(y,x , color =\"red\")\n",
        "plt.show()\n",
        "\n",
        "# Show the plot\n"
      ],
      "execution_count": null,
      "outputs": [
        {
          "output_type": "display_data",
          "data": {
            "image/png": "[encoded data removed]",
            "text/plain": [
              "<Figure size 432x288 with 1 Axes>"
            ]
          },
          "metadata": {
            "needs_background": "light"
          }
        }
      ]
    },
    {
      "cell_type": "code",
      "metadata": {
        "colab": {
          "base_uri": "https://localhost:8080/"
        },
        "id": "zFyqkehRj2Fq",
        "outputId": "a27dcae2-8cf9-438c-d2ac-72f5cea111e0"
      },
      "source": [
        "x"
      ],
      "execution_count": null,
      "outputs": [
        {
          "output_type": "execute_result",
          "data": {
            "text/plain": [
              "array([0.64655172, 0.81034483, 0.88793103, 0.90517241, 0.9137931 ,\n",
              "       0.9137931 , 0.90517241, 0.89655172, 0.89655172, 0.89655172,\n",
              "       0.89655172])"
            ]
          },
          "metadata": {},
          "execution_count": 141
        }
      ]
    },
    {
      "cell_type": "code",
      "metadata": {
        "colab": {
          "base_uri": "https://localhost:8080/"
        },
        "id": "8B6EVrCUj3j_",
        "outputId": "de7ccc79-6c74-4c2e-ff6f-2797ad1f4dfd"
      },
      "source": [
        "y"
      ],
      "execution_count": null,
      "outputs": [
        {
          "output_type": "execute_result",
          "data": {
            "text/plain": [
              "array([  1,   5,  10,  20,  30,  50, 100, 150, 180, 200, 200])"
            ]
          },
          "metadata": {},
          "execution_count": 142
        }
      ]
    },
    {
      "cell_type": "code",
      "metadata": {
        "colab": {
          "base_uri": "https://localhost:8080/",
          "height": 296
        },
        "id": "MnlLxXF5kuih",
        "outputId": "d37ad96e-1fbe-42e5-9fd7-5899a2d13918"
      },
      "source": [
        "import matplotlib.pyplot as plt\n",
        "import numpy as np\n",
        "x=np.array(train_accuracy)\n",
        "y=np.array(n_epochs)\n",
        "fig = plt.figure()\n",
        "plt.title(\"train_accuracy vs n_epochs\")\n",
        "plt.xlabel(\"train_accuracy\")\n",
        "plt.ylabel(\"n_epochs\")\n",
        "plt.plot(y,x , color =\"red\")\n",
        "plt.show()\n"
      ],
      "execution_count": null,
      "outputs": [
        {
          "output_type": "display_data",
          "data": {
            "image/png": "[encoded data removed]",
            "text/plain": [
              "<Figure size 432x288 with 1 Axes>"
            ]
          },
          "metadata": {
            "needs_background": "light"
          }
        }
      ]
    },
    {
      "cell_type": "code",
      "metadata": {
        "id": "i-i81dZOlrV2"
      },
      "source": [
        ""
      ],
      "execution_count": null,
      "outputs": []
    },
    {
      "cell_type": "markdown",
      "metadata": {
        "id": "hj1i4w47lwAb"
      },
      "source": [
        "\n",
        "# neural network For Linear regression "
      ]
    },
    {
      "cell_type": "code",
      "metadata": {
        "id": "G-t6LvfVl0e_"
      },
      "source": [
        "from torch.nn import MSELoss\n",
        "from sklearn.metrics import mean_squared_error\n",
        "from numpy import sqrt"
      ],
      "execution_count": null,
      "outputs": []
    },
    {
      "cell_type": "code",
      "metadata": {
        "id": "BTuibOQbquyv"
      },
      "source": [
        "path = 'https://raw.githubusercontent.com/jbrownlee/Datasets/master/housing.csv'"
      ],
      "execution_count": null,
      "outputs": []
    },
    {
      "cell_type": "code",
      "metadata": {
        "colab": {
          "base_uri": "https://localhost:8080/",
          "height": 423
        },
        "id": "hR1FOFjVqwJR",
        "outputId": "d81b8947-c75c-41da-a3af-16061cc2f2d5"
      },
      "source": [
        "df=read_csv(path)\n",
        "df\n"
      ],
      "execution_count": null,
      "outputs": [
        {
          "output_type": "execute_result",
          "data": {
            "text/html": [
              "<div>\n",
              "<style scoped>\n",
              "    .dataframe tbody tr th:only-of-type {\n",
              "        vertical-align: middle;\n",
              "    }\n",
              "\n",
              "    .dataframe tbody tr th {\n",
              "        vertical-align: top;\n",
              "    }\n",
              "\n",
              "    .dataframe thead th {\n",
              "        text-align: right;\n",
              "    }\n",
              "</style>\n",
              "<table border=\"1\" class=\"dataframe\">\n",
              "  <thead>\n",
              "    <tr style=\"text-align: right;\">\n",
              "      <th></th>\n",
              "      <th>0.00632</th>\n",
              "      <th>18.00</th>\n",
              "      <th>2.310</th>\n",
              "      <th>0</th>\n",
              "      <th>0.5380</th>\n",
              "      <th>6.5750</th>\n",
              "      <th>65.20</th>\n",
              "      <th>4.0900</th>\n",
              "      <th>1</th>\n",
              "      <th>296.0</th>\n",
              "      <th>15.30</th>\n",
              "      <th>396.90</th>\n",
              "      <th>4.98</th>\n",
              "      <th>24.00</th>\n",
              "    </tr>\n",
              "  </thead>\n",
              "  <tbody>\n",
              "    <tr>\n",
              "      <th>0</th>\n",
              "      <td>0.02731</td>\n",
              "      <td>0.0</td>\n",
              "      <td>7.07</td>\n",
              "      <td>0</td>\n",
              "      <td>0.469</td>\n",
              "      <td>6.421</td>\n",
              "      <td>78.9</td>\n",
              "      <td>4.9671</td>\n",
              "      <td>2</td>\n",
              "      <td>242.0</td>\n",
              "      <td>17.8</td>\n",
              "      <td>396.90</td>\n",
              "      <td>9.14</td>\n",
              "      <td>21.6</td>\n",
              "    </tr>\n",
              "    <tr>\n",
              "      <th>1</th>\n",
              "      <td>0.02729</td>\n",
              "      <td>0.0</td>\n",
              "      <td>7.07</td>\n",
              "      <td>0</td>\n",
              "      <td>0.469</td>\n",
              "      <td>7.185</td>\n",
              "      <td>61.1</td>\n",
              "      <td>4.9671</td>\n",
              "      <td>2</td>\n",
              "      <td>242.0</td>\n",
              "      <td>17.8</td>\n",
              "      <td>392.83</td>\n",
              "      <td>4.03</td>\n",
              "      <td>34.7</td>\n",
              "    </tr>\n",
              "    <tr>\n",
              "      <th>2</th>\n",
              "      <td>0.03237</td>\n",
              "      <td>0.0</td>\n",
              "      <td>2.18</td>\n",
              "      <td>0</td>\n",
              "      <td>0.458</td>\n",
              "      <td>6.998</td>\n",
              "      <td>45.8</td>\n",
              "      <td>6.0622</td>\n",
              "      <td>3</td>\n",
              "      <td>222.0</td>\n",
              "      <td>18.7</td>\n",
              "      <td>394.63</td>\n",
              "      <td>2.94</td>\n",
              "      <td>33.4</td>\n",
              "    </tr>\n",
              "    <tr>\n",
              "      <th>3</th>\n",
              "      <td>0.06905</td>\n",
              "      <td>0.0</td>\n",
              "      <td>2.18</td>\n",
              "      <td>0</td>\n",
              "      <td>0.458</td>\n",
              "      <td>7.147</td>\n",
              "      <td>54.2</td>\n",
              "      <td>6.0622</td>\n",
              "      <td>3</td>\n",
              "      <td>222.0</td>\n",
              "      <td>18.7</td>\n",
              "      <td>396.90</td>\n",
              "      <td>5.33</td>\n",
              "      <td>36.2</td>\n",
              "    </tr>\n",
              "    <tr>\n",
              "      <th>4</th>\n",
              "      <td>0.02985</td>\n",
              "      <td>0.0</td>\n",
              "      <td>2.18</td>\n",
              "      <td>0</td>\n",
              "      <td>0.458</td>\n",
              "      <td>6.430</td>\n",
              "      <td>58.7</td>\n",
              "      <td>6.0622</td>\n",
              "      <td>3</td>\n",
              "      <td>222.0</td>\n",
              "      <td>18.7</td>\n",
              "      <td>394.12</td>\n",
              "      <td>5.21</td>\n",
              "      <td>28.7</td>\n",
              "    </tr>\n",
              "    <tr>\n",
              "      <th>...</th>\n",
              "      <td>...</td>\n",
              "      <td>...</td>\n",
              "      <td>...</td>\n",
              "      <td>...</td>\n",
              "      <td>...</td>\n",
              "      <td>...</td>\n",
              "      <td>...</td>\n",
              "      <td>...</td>\n",
              "      <td>...</td>\n",
              "      <td>...</td>\n",
              "      <td>...</td>\n",
              "      <td>...</td>\n",
              "      <td>...</td>\n",
              "      <td>...</td>\n",
              "    </tr>\n",
              "    <tr>\n",
              "      <th>500</th>\n",
              "      <td>0.06263</td>\n",
              "      <td>0.0</td>\n",
              "      <td>11.93</td>\n",
              "      <td>0</td>\n",
              "      <td>0.573</td>\n",
              "      <td>6.593</td>\n",
              "      <td>69.1</td>\n",
              "      <td>2.4786</td>\n",
              "      <td>1</td>\n",
              "      <td>273.0</td>\n",
              "      <td>21.0</td>\n",
              "      <td>391.99</td>\n",
              "      <td>9.67</td>\n",
              "      <td>22.4</td>\n",
              "    </tr>\n",
              "    <tr>\n",
              "      <th>501</th>\n",
              "      <td>0.04527</td>\n",
              "      <td>0.0</td>\n",
              "      <td>11.93</td>\n",
              "      <td>0</td>\n",
              "      <td>0.573</td>\n",
              "      <td>6.120</td>\n",
              "      <td>76.7</td>\n",
              "      <td>2.2875</td>\n",
              "      <td>1</td>\n",
              "      <td>273.0</td>\n",
              "      <td>21.0</td>\n",
              "      <td>396.90</td>\n",
              "      <td>9.08</td>\n",
              "      <td>20.6</td>\n",
              "    </tr>\n",
              "    <tr>\n",
              "      <th>502</th>\n",
              "      <td>0.06076</td>\n",
              "      <td>0.0</td>\n",
              "      <td>11.93</td>\n",
              "      <td>0</td>\n",
              "      <td>0.573</td>\n",
              "      <td>6.976</td>\n",
              "      <td>91.0</td>\n",
              "      <td>2.1675</td>\n",
              "      <td>1</td>\n",
              "      <td>273.0</td>\n",
              "      <td>21.0</td>\n",
              "      <td>396.90</td>\n",
              "      <td>5.64</td>\n",
              "      <td>23.9</td>\n",
              "    </tr>\n",
              "    <tr>\n",
              "      <th>503</th>\n",
              "      <td>0.10959</td>\n",
              "      <td>0.0</td>\n",
              "      <td>11.93</td>\n",
              "      <td>0</td>\n",
              "      <td>0.573</td>\n",
              "      <td>6.794</td>\n",
              "      <td>89.3</td>\n",
              "      <td>2.3889</td>\n",
              "      <td>1</td>\n",
              "      <td>273.0</td>\n",
              "      <td>21.0</td>\n",
              "      <td>393.45</td>\n",
              "      <td>6.48</td>\n",
              "      <td>22.0</td>\n",
              "    </tr>\n",
              "    <tr>\n",
              "      <th>504</th>\n",
              "      <td>0.04741</td>\n",
              "      <td>0.0</td>\n",
              "      <td>11.93</td>\n",
              "      <td>0</td>\n",
              "      <td>0.573</td>\n",
              "      <td>6.030</td>\n",
              "      <td>80.8</td>\n",
              "      <td>2.5050</td>\n",
              "      <td>1</td>\n",
              "      <td>273.0</td>\n",
              "      <td>21.0</td>\n",
              "      <td>396.90</td>\n",
              "      <td>7.88</td>\n",
              "      <td>11.9</td>\n",
              "    </tr>\n",
              "  </tbody>\n",
              "</table>\n",
              "<p>505 rows × 14 columns</p>\n",
              "</div>"
            ],
            "text/plain": [
              "     0.00632  18.00  2.310  0  0.5380  ...  296.0  15.30  396.90  4.98  24.00\n",
              "0    0.02731    0.0   7.07  0   0.469  ...  242.0   17.8  396.90  9.14   21.6\n",
              "1    0.02729    0.0   7.07  0   0.469  ...  242.0   17.8  392.83  4.03   34.7\n",
              "2    0.03237    0.0   2.18  0   0.458  ...  222.0   18.7  394.63  2.94   33.4\n",
              "3    0.06905    0.0   2.18  0   0.458  ...  222.0   18.7  396.90  5.33   36.2\n",
              "4    0.02985    0.0   2.18  0   0.458  ...  222.0   18.7  394.12  5.21   28.7\n",
              "..       ...    ...    ... ..     ...  ...    ...    ...     ...   ...    ...\n",
              "500  0.06263    0.0  11.93  0   0.573  ...  273.0   21.0  391.99  9.67   22.4\n",
              "501  0.04527    0.0  11.93  0   0.573  ...  273.0   21.0  396.90  9.08   20.6\n",
              "502  0.06076    0.0  11.93  0   0.573  ...  273.0   21.0  396.90  5.64   23.9\n",
              "503  0.10959    0.0  11.93  0   0.573  ...  273.0   21.0  393.45  6.48   22.0\n",
              "504  0.04741    0.0  11.93  0   0.573  ...  273.0   21.0  396.90  7.88   11.9\n",
              "\n",
              "[505 rows x 14 columns]"
            ]
          },
          "metadata": {},
          "execution_count": 279
        }
      ]
    },
    {
      "cell_type": "code",
      "metadata": {
        "id": "Rog4lk1hm4n_"
      },
      "source": [
        "\n",
        "train_dl, test_dl = prepare_data(path)"
      ],
      "execution_count": null,
      "outputs": []
    },
    {
      "cell_type": "markdown",
      "metadata": {
        "id": "WjDMvE4ixS-8"
      },
      "source": [
        "fully connected 3 layer network  with sigmoid activation"
      ]
    },
    {
      "cell_type": "code",
      "metadata": {
        "id": "OrXzBsXlmGvp"
      },
      "source": [
        "class NeuralNetwork2(Module):\n",
        "    def __init__(self, n_inputs):\n",
        "        super(NeuralNetwork2, self).__init__()\n",
        "        self.hidden1 = Linear(n_inputs, 10)\n",
        "        xavier_uniform_(self.hidden1.weight)\n",
        "        self.act1 = Sigmoid()\n",
        "        self.hidden2 = Linear(10, 8)\n",
        "        xavier_uniform_(self.hidden2.weight)\n",
        "        self.act2 = Sigmoid()\n",
        "        self.hidden3 = Linear(8, 1)\n",
        "        xavier_uniform_(self.hidden3.weight)\n",
        " \n",
        "    def forward(self, X):\n",
        "        X = self.hidden1(X)\n",
        "        X = self.act1(X)\n",
        "        X = self.hidden2(X)\n",
        "        X = self.act2(X)\n",
        "        X = self.hidden3(X)\n",
        "        return X"
      ],
      "execution_count": null,
      "outputs": []
    },
    {
      "cell_type": "markdown",
      "metadata": {
        "id": "XiCpgJbJxdJB"
      },
      "source": [
        "fully connected 2 layer network  with sigmooid activation"
      ]
    },
    {
      "cell_type": "code",
      "metadata": {
        "id": "IWDaFUlBxc1T"
      },
      "source": [
        ""
      ],
      "execution_count": null,
      "outputs": []
    },
    {
      "cell_type": "code",
      "metadata": {
        "id": "6AAL9wBTwCVY"
      },
      "source": [
        "class NeuralNetwork26(Module):\n",
        "    def __init__(self, n_inputs):\n",
        "        super(NeuralNetwork26, self).__init__()\n",
        "        self.hidden1 = Linear(n_inputs, 10)\n",
        "        xavier_uniform_(self.hidden1.weight)\n",
        "        self.act1 = Sigmoid()\n",
        "        self.hidden2 = Linear(10, 1)\n",
        "        xavier_uniform_(self.hidden2.weight)\n",
        " \n",
        "    def forward(self, X):\n",
        "        X = self.hidden1(X)\n",
        "        X = self.act1(X)\n",
        "        X = self.hidden2(X)\n",
        "        return X"
      ],
      "execution_count": null,
      "outputs": []
    },
    {
      "cell_type": "markdown",
      "metadata": {
        "id": "jAR5zIl-xfQ-"
      },
      "source": [
        "\n",
        "\n",
        "fully connected 4 layer network  with ReLu activation in the first two layer  and sigmoid activation in the last layer\n",
        "\n"
      ]
    },
    {
      "cell_type": "code",
      "metadata": {
        "id": "QHYEC-9CwDLr"
      },
      "source": [
        "class NeuralNetwork27(Module):\n",
        "    def __init__(self, n_inputs):\n",
        "        super(NeuralNetwork27, self).__init__()\n",
        "        self.hidden1 = Linear(n_inputs, 10)\n",
        "        xavier_uniform_(self.hidden1.weight)\n",
        "        self.act1 = ReLU()\n",
        "        self.hidden2 = Linear(10, 8)\n",
        "        xavier_uniform_(self.hidden2.weight)\n",
        "        self.act2 = ReLU()\n",
        "        self.hidden3 = Linear(8, 8)\n",
        "        xavier_uniform_(self.hidden3.weight)\n",
        "        self.act3 = Sigmoid()\n",
        "        self.hidden4 = Linear(8, 1)\n",
        "        xavier_uniform_(self.hidden4.weight)\n",
        " \n",
        "    def forward(self, X):\n",
        "        X = self.hidden1(X)\n",
        "        X = self.act1(X)\n",
        "        X = self.hidden2(X)\n",
        "        X = self.act2(X)\n",
        "        X = self.hidden3(X)\n",
        "        X = self.act3(X)\n",
        "        X = self.hidden4(X)\n",
        "        return X"
      ],
      "execution_count": null,
      "outputs": []
    },
    {
      "cell_type": "code",
      "metadata": {
        "id": "XjvCdaNAmwfD"
      },
      "source": [
        "def predict2(row, model):\n",
        "    row = Tensor([row])\n",
        "    yhat = model(row)\n",
        "    yhat = yhat.detach().numpy()\n",
        "    return yhat"
      ],
      "execution_count": null,
      "outputs": []
    },
    {
      "cell_type": "code",
      "metadata": {
        "id": "oqbpxl3rmXk-"
      },
      "source": [
        "def train_model2(train_dl, model,n_epoch):\n",
        "    criterion = MSELoss()\n",
        "    optimizer = SGD(model.parameters(), lr=0.01, momentum=0.9)\n",
        "    for epoch in range(n_epoch):\n",
        "        for i, (inputs, targets) in enumerate(train_dl):\n",
        "            optimizer.zero_grad()\n",
        "            yhat = model(inputs)\n",
        "            loss = criterion(yhat, targets)\n",
        "            loss.backward()\n",
        "            optimizer.step()"
      ],
      "execution_count": null,
      "outputs": []
    },
    {
      "cell_type": "code",
      "metadata": {
        "id": "ezLbnO4umokO"
      },
      "source": [
        "def evaluate_model2(test_dl, model):\n",
        "    predictions, actuals = list(), list()\n",
        "    for i, (inputs, targets) in enumerate(test_dl):\n",
        "        yhat = model(inputs)\n",
        "        yhat = yhat.detach().numpy()\n",
        "        actual = targets.numpy()\n",
        "        actual = actual.reshape((len(actual), 1))\n",
        "        predictions.append(yhat)\n",
        "        actuals.append(actual)\n",
        "    predictions, actuals = vstack(predictions), vstack(actuals)\n",
        "    mse = mean_squared_error(actuals, predictions)\n",
        "    return mse"
      ],
      "execution_count": null,
      "outputs": []
    },
    {
      "cell_type": "code",
      "metadata": {
        "id": "QLu_sjtgwkxB"
      },
      "source": [
        ""
      ],
      "execution_count": null,
      "outputs": []
    },
    {
      "cell_type": "code",
      "metadata": {
        "id": "QflirjOlm17e"
      },
      "source": [
        "model2 = NeuralNetwork2(13)"
      ],
      "execution_count": null,
      "outputs": []
    },
    {
      "cell_type": "code",
      "metadata": {
        "colab": {
          "base_uri": "https://localhost:8080/"
        },
        "id": "WI5J9vllnKWl",
        "outputId": "c2fbf5d2-1551-4ad2-82be-597066814f66"
      },
      "source": [
        "train_model2(train_dl, model2,20)\n",
        "mse = evaluate_model2(test_dl, model2)\n",
        "print(\"mean_squared_error\",mse)"
      ],
      "execution_count": null,
      "outputs": [
        {
          "output_type": "stream",
          "name": "stdout",
          "text": [
            "mean_squared_error 3695.1875\n"
          ]
        }
      ]
    },
    {
      "cell_type": "markdown",
      "metadata": {
        "id": "npeq8BJ9xQEO"
      },
      "source": [
        "mean_squared_error on given data using 3 layer network"
      ]
    },
    {
      "cell_type": "code",
      "metadata": {
        "colab": {
          "base_uri": "https://localhost:8080/"
        },
        "id": "KBenSNLfwmfg",
        "outputId": "bb16ac37-dda8-43ba-b142-779160f6cdd6"
      },
      "source": [
        "model2 = NeuralNetwork2(13)\n",
        "train_model2(train_dl, model2,100)\n",
        "mse = evaluate_model2(test_dl, model2)\n",
        "print(\"mean_squared_error\",mse)"
      ],
      "execution_count": null,
      "outputs": [
        {
          "output_type": "stream",
          "name": "stdout",
          "text": [
            "mean_squared_error 3664.7786\n"
          ]
        }
      ]
    },
    {
      "cell_type": "markdown",
      "metadata": {
        "id": "TTl8QziCxOOq"
      },
      "source": [
        "mean_squared_error on given data using 2 layer network"
      ]
    },
    {
      "cell_type": "code",
      "metadata": {
        "colab": {
          "base_uri": "https://localhost:8080/"
        },
        "id": "pfeWIhfwwska",
        "outputId": "637c3449-c016-4542-e153-e7b727d90aab"
      },
      "source": [
        "model2 = NeuralNetwork26(13)\n",
        "train_model2(train_dl, model2,100)\n",
        "mse = evaluate_model2(test_dl, model2)\n",
        "print(\"mean_squared_error\",mse)"
      ],
      "execution_count": null,
      "outputs": [
        {
          "output_type": "stream",
          "name": "stdout",
          "text": [
            "mean_squared_error 3729.854\n"
          ]
        }
      ]
    },
    {
      "cell_type": "markdown",
      "metadata": {
        "id": "4d1WNEfzxFe1"
      },
      "source": [
        "mean_squared_error on given data using 4 layer network"
      ]
    },
    {
      "cell_type": "code",
      "metadata": {
        "colab": {
          "base_uri": "https://localhost:8080/"
        },
        "id": "8V2M8YBUwtFe",
        "outputId": "a59861f4-5d9c-456d-b19d-36351e1f0ca0"
      },
      "source": [
        "model2 = NeuralNetwork27(13)\n",
        "train_model2(train_dl, model2,100)\n",
        "mse = evaluate_model2(test_dl, model2)\n",
        "print(\"mean_squared_error\",mse)"
      ],
      "execution_count": null,
      "outputs": [
        {
          "output_type": "stream",
          "name": "stdout",
          "text": [
            "mean_squared_error 3656.03\n"
          ]
        }
      ]
    },
    {
      "cell_type": "markdown",
      "metadata": {
        "id": "rKKlSig3yJeg"
      },
      "source": [
        "------------------------------------------------------------------Comparing Result by Varying no of epochs in training--------------------------------------------------------------------------------"
      ]
    },
    {
      "cell_type": "code",
      "metadata": {
        "id": "0qqkuhO_oOmD"
      },
      "source": [
        "mean_square_error=[]\n",
        "n_epoch=[]"
      ],
      "execution_count": null,
      "outputs": []
    },
    {
      "cell_type": "markdown",
      "metadata": {
        "id": "1AnGoP8byAhI"
      },
      "source": [
        ""
      ]
    },
    {
      "cell_type": "code",
      "metadata": {
        "colab": {
          "base_uri": "https://localhost:8080/"
        },
        "id": "Km3AbVuSoUq5",
        "outputId": "6089e922-82f9-4f82-a985-23ec4e713f70"
      },
      "source": [
        "train_model2(train_dl, model2,1)\n",
        "mse = evaluate_model2(test_dl, model2)\n",
        "print(\"mean_squared_error\",mse)\n",
        "mean_square_error.append(mse)\n",
        "n_epoch.append(1)"
      ],
      "execution_count": null,
      "outputs": [
        {
          "output_type": "stream",
          "name": "stdout",
          "text": [
            "mean_squared_error 3719.1602\n"
          ]
        }
      ]
    },
    {
      "cell_type": "code",
      "metadata": {
        "colab": {
          "base_uri": "https://localhost:8080/"
        },
        "id": "4UFOGNZSoiY3",
        "outputId": "e66ad2da-abfa-4179-c1ad-5d263321cc86"
      },
      "source": [
        "train_model2(train_dl, model2,2)\n",
        "mse = evaluate_model2(test_dl, model2)\n",
        "print(\"mean_squared_error\",mse)\n",
        "mean_square_error.append(mse)\n",
        "n_epoch.append(2)"
      ],
      "execution_count": null,
      "outputs": [
        {
          "output_type": "stream",
          "name": "stdout",
          "text": [
            "mean_squared_error 3755.2095\n"
          ]
        }
      ]
    },
    {
      "cell_type": "code",
      "metadata": {
        "colab": {
          "base_uri": "https://localhost:8080/"
        },
        "id": "KgTwUgOkolgI",
        "outputId": "cb021e7f-51e7-4898-db25-e9fc6137f911"
      },
      "source": [
        "train_model2(train_dl, model2,3)\n",
        "mse = evaluate_model2(test_dl, model2)\n",
        "print(\"mean_squared_error\",mse)\n",
        "mean_square_error.append(mse)\n",
        "n_epoch.append(3)"
      ],
      "execution_count": null,
      "outputs": [
        {
          "output_type": "stream",
          "name": "stdout",
          "text": [
            "mean_squared_error 3702.5022\n"
          ]
        }
      ]
    },
    {
      "cell_type": "code",
      "metadata": {
        "colab": {
          "base_uri": "https://localhost:8080/"
        },
        "id": "Z2AbM6rzov8r",
        "outputId": "43055cb9-125e-4a25-fede-ca93b85feeda"
      },
      "source": [
        "train_model2(train_dl, model2,5)\n",
        "mse = evaluate_model2(test_dl, model2)\n",
        "print(\"mean_squared_error\",mse)\n",
        "mean_square_error.append(mse)\n",
        "n_epoch.append(5)"
      ],
      "execution_count": null,
      "outputs": [
        {
          "output_type": "stream",
          "name": "stdout",
          "text": [
            "mean_squared_error 3862.3035\n"
          ]
        }
      ]
    },
    {
      "cell_type": "code",
      "metadata": {
        "colab": {
          "base_uri": "https://localhost:8080/"
        },
        "id": "rIpmSGy_pDVh",
        "outputId": "a948061d-46e6-46d0-d2af-93cf77d543d9"
      },
      "source": [
        "train_model2(train_dl, model2,10)\n",
        "mse = evaluate_model2(test_dl, model2)\n",
        "print(\"mean_squared_error\",mse)\n",
        "mean_square_error.append(mse)\n",
        "n_epoch.append(10)"
      ],
      "execution_count": null,
      "outputs": [
        {
          "output_type": "stream",
          "name": "stdout",
          "text": [
            "mean_squared_error 3725.234\n"
          ]
        }
      ]
    },
    {
      "cell_type": "code",
      "metadata": {
        "colab": {
          "base_uri": "https://localhost:8080/"
        },
        "id": "4VThj_gipF8E",
        "outputId": "d203a2f8-b126-4623-bd87-f3270c74cb14"
      },
      "source": [
        "train_model2(train_dl, model2,50)\n",
        "mse = evaluate_model2(test_dl, model2)\n",
        "print(\"mean_squared_error\",mse)\n",
        "mean_square_error.append(mse)\n",
        "n_epoch.append(50)"
      ],
      "execution_count": null,
      "outputs": [
        {
          "output_type": "stream",
          "name": "stdout",
          "text": [
            "mean_squared_error 3852.2585\n"
          ]
        }
      ]
    },
    {
      "cell_type": "code",
      "metadata": {
        "colab": {
          "base_uri": "https://localhost:8080/"
        },
        "id": "5y3ZpPappIi9",
        "outputId": "a81b46b8-954f-46c6-afef-06a07c21b6a7"
      },
      "source": [
        "train_model2(train_dl, model2,20)\n",
        "mse = evaluate_model2(test_dl, model2)\n",
        "print(\"mean_squared_error\",mse)\n",
        "mean_square_error.append(mse)\n",
        "n_epoch.append(20)"
      ],
      "execution_count": null,
      "outputs": [
        {
          "output_type": "stream",
          "name": "stdout",
          "text": [
            "mean_squared_error 3700.0913\n"
          ]
        }
      ]
    },
    {
      "cell_type": "code",
      "metadata": {
        "colab": {
          "base_uri": "https://localhost:8080/"
        },
        "id": "yInC0vv-pMfM",
        "outputId": "c148c233-de04-4a33-802f-4950faeae087"
      },
      "source": [
        "train_model2(train_dl, model2,30)\n",
        "mse = evaluate_model2(test_dl, model2)\n",
        "print(\"mean_squared_error\",mse)\n",
        "mean_square_error.append(mse)\n",
        "n_epoch.append(30)"
      ],
      "execution_count": null,
      "outputs": [
        {
          "output_type": "stream",
          "name": "stdout",
          "text": [
            "mean_squared_error 3718.4187\n"
          ]
        }
      ]
    },
    {
      "cell_type": "code",
      "metadata": {
        "colab": {
          "base_uri": "https://localhost:8080/"
        },
        "id": "4pW-m1w3pPCc",
        "outputId": "a7e041f7-0a5e-4106-f91b-05dc48440b39"
      },
      "source": [
        "train_model2(train_dl, model2,80)\n",
        "mse = evaluate_model2(test_dl, model2)\n",
        "print(\"mean_squared_error\",mse)\n",
        "mean_square_error.append(mse)\n",
        "n_epoch.append(80)"
      ],
      "execution_count": null,
      "outputs": [
        {
          "output_type": "stream",
          "name": "stdout",
          "text": [
            "mean_squared_error 3696.9714\n"
          ]
        }
      ]
    },
    {
      "cell_type": "code",
      "metadata": {
        "colab": {
          "base_uri": "https://localhost:8080/"
        },
        "id": "7748rCrvpSjm",
        "outputId": "5059c17d-11ff-4f63-c9d8-ae7c8a43b8f4"
      },
      "source": [
        "train_model2(train_dl, model2,100)\n",
        "mse = evaluate_model2(test_dl, model2)\n",
        "print(\"mean_squared_error\",mse)\n",
        "mean_square_error.append(mse)\n",
        "n_epoch.append(100)"
      ],
      "execution_count": null,
      "outputs": [
        {
          "output_type": "stream",
          "name": "stdout",
          "text": [
            "mean_squared_error 3714.518\n"
          ]
        }
      ]
    },
    {
      "cell_type": "code",
      "metadata": {
        "colab": {
          "base_uri": "https://localhost:8080/"
        },
        "id": "D9h_auHspUyi",
        "outputId": "f3c6ff8b-0439-4e41-bc53-f5ec5334f51c"
      },
      "source": [
        "train_model2(train_dl, model2,150)\n",
        "mse = evaluate_model2(test_dl, model2)\n",
        "print(\"mean_squared_error\",mse)\n",
        "mean_square_error.append(mse)\n",
        "n_epoch.append(150)"
      ],
      "execution_count": null,
      "outputs": [
        {
          "output_type": "stream",
          "name": "stdout",
          "text": [
            "mean_squared_error 3849.5322\n"
          ]
        }
      ]
    },
    {
      "cell_type": "code",
      "metadata": {
        "colab": {
          "base_uri": "https://localhost:8080/",
          "height": 296
        },
        "id": "8--JZVXHpYke",
        "outputId": "f85030ff-6919-4b8c-ce5b-aa1ec69a404a"
      },
      "source": [
        "\n",
        "x=np.array(mean_square_error)\n",
        "y=np.array(n_epoch)\n",
        "fig = plt.figure()\n",
        "plt.title(\"mean_squared_error vs n_epochs\")\n",
        "plt.xlabel(\"mean_squared_error\")\n",
        "plt.ylabel(\"n_epoch\")\n",
        "plt.plot(y,x , color =\"red\")\n",
        "plt.show()"
      ],
      "execution_count": null,
      "outputs": [
        {
          "output_type": "display_data",
          "data": {
            "image/png": "[encoded data removed]",
            "text/plain": [
              "<Figure size 432x288 with 1 Axes>"
            ]
          },
          "metadata": {
            "needs_background": "light"
          }
        }
      ]
    },
    {
      "cell_type": "code",
      "metadata": {
        "colab": {
          "base_uri": "https://localhost:8080/"
        },
        "id": "3SoUUtrRp4Tn",
        "outputId": "362e0dd5-f6da-4a2f-ac30-92312c68f0a4"
      },
      "source": [
        "x"
      ],
      "execution_count": null,
      "outputs": [
        {
          "output_type": "execute_result",
          "data": {
            "text/plain": [
              "array([3719.1602, 3755.2095, 3702.5022, 3862.3035, 3725.234 , 3852.2585,\n",
              "       3700.0913, 3718.4187, 3696.9714, 3714.518 , 3849.5322],\n",
              "      dtype=float32)"
            ]
          },
          "metadata": {},
          "execution_count": 220
        }
      ]
    },
    {
      "cell_type": "code",
      "metadata": {
        "colab": {
          "base_uri": "https://localhost:8080/"
        },
        "id": "wlpMmQhep5gn",
        "outputId": "2e8f7c56-8c6b-40ba-9e4c-2714c0c58cb2"
      },
      "source": [
        "y"
      ],
      "execution_count": null,
      "outputs": [
        {
          "output_type": "execute_result",
          "data": {
            "text/plain": [
              "array([  1,   2,   3,   5,  10,  50,  20,  30,  80, 100, 150])"
            ]
          },
          "metadata": {},
          "execution_count": 221
        }
      ]
    }
  ]
}