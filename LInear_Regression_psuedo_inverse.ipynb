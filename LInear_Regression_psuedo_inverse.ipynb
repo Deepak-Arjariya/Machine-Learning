{
  "nbformat": 4,
  "nbformat_minor": 0,
  "metadata": {
    "colab": {
      "name": "LInear Regression psuedo inverse.ipynb",
      "provenance": []
    },
    "kernelspec": {
      "name": "python3",
      "display_name": "Python 3"
    },
    "language_info": {
      "name": "python"
    }
  },
  "cells": [
    {
      "cell_type": "code",
      "metadata": {
        "id": "7ljyR4WN_xtZ"
      },
      "source": [
        "import numpy as np\n",
        "\n",
        "\n",
        "class LinearRegressionAlgorithm:\n",
        "    def __init__(self, learning_rate=0.001, n_iterations=10000):\n",
        "\n",
        "        self.lr = learning_rate\n",
        "        self.epochs = n_iterations\n",
        "        self.weights = None\n",
        "        self.bias = None\n",
        "\n",
        "    def fit(self, X, Y):\n",
        "        # self.weights = np.zeros(X.shape[1])\n",
        "        # self.bias = 0\n",
        "\n",
        "        # for epoch in range(self.epochs):\n",
        "        #   y_pred= np.dot(X,self.weights)+self.bias\n",
        "\n",
        "        #   dw=(1/X.shape[0]) * np.dot(X.T,(y_pred-Y))   \n",
        "        #   db=(1/X.shape[0]) * np.sum(y_pred-Y)  \n",
        "\n",
        "        #   self.weights-=self.lr*dw\n",
        "        #   self.bias-=self.lr*db    \n",
        "        n=X.shape[0]\n",
        "        m=X.shape[1]\n",
        "        A=X\n",
        "        z=np.ones((n,1))\n",
        "        A = np.hstack((A, np.ones((X.shape[0], 1), dtype=A.dtype)))\n",
        "        ans=np.dot(np.dot(np.linalg.inv(np.dot(np.transpose(A),A)),np.transpose(A)),Y)\n",
        "        self.weights=ans[0:-1]\n",
        "        self.bias=ans[-1]\n",
        "\n",
        "\n",
        "    def predict(self, X):\n",
        "\n",
        "         y_pred= np.dot(X,self.weights)+self.bias\n",
        "         return y_pred\n"
      ],
      "execution_count": null,
      "outputs": []
    },
    {
      "cell_type": "code",
      "metadata": {
        "colab": {
          "base_uri": "https://localhost:8080/"
        },
        "id": "bNBk5fps_n4m",
        "outputId": "16016296-76b0-45ad-92a6-3938afec22af"
      },
      "source": [
        "import pandas as pd\n",
        "import numpy as np\n",
        "import matplotlib.pyplot as plt\n",
        "from sklearn.model_selection import train_test_split\n",
        "from sklearn.metrics import accuracy_score\n",
        "from sklearn import datasets\n",
        "\n",
        "\n",
        "\n",
        "df = pd.read_csv('insurance.csv')\n",
        "from sklearn.preprocessing import LabelEncoder\n",
        "le = LabelEncoder()\n",
        "df['sex'] = le.fit_transform(df['sex'])\n",
        "df['smoker'] = le.fit_transform(df['smoker'])\n",
        "df['region'] = le.fit_transform(df['region'])\n",
        "x = df.drop('charges',axis=1)\n",
        "y = df['charges']\n",
        "from sklearn.preprocessing import StandardScaler\n",
        "sc = StandardScaler()\n",
        "train_x, test_x, train_y, test_y = train_test_split(x, y, test_size=.2)\n",
        "train_x = sc.fit_transform(train_x)\n",
        "test_x = sc.transform(test_x)\n",
        "# x = df.loc[:, ['bmi']]\n",
        "# y = df.loc[:, ['charges']]\n",
        "\n",
        "\n",
        "# from sklearn.linear_model import LinearRegression\n",
        "\n",
        "fun=LinearRegressionAlgorithm()\n",
        "# lr = LinearRegression(fit_intercept=True)\n",
        "# lr.fit(train_x,train_y)\n",
        "# lr_pred = lr.predict(test_x)\n",
        "from sklearn.metrics import mean_squared_error,mean_absolute_error, r2_score\n",
        "# mse=(mean_squared_error(test_y,lr_pred))**0.5\n",
        "\n",
        "fun.fit(train_x, train_y)\n",
        "y_pred = fun.predict(test_x)\n",
        "# mse_value=np.mean((test_y-y_pred)**2)\n",
        "# mse_value\n",
        "mse=(mean_squared_error(test_y,y_pred))**0.5\n",
        "mse\n",
        "# test_x\n",
        "# accuracy_score(test_y, y_pred)"
      ],
      "execution_count": null,
      "outputs": [
        {
          "output_type": "execute_result",
          "data": {
            "text/plain": [
              "5885.569561607735"
            ]
          },
          "metadata": {},
          "execution_count": 12
        }
      ]
    },
    {
      "cell_type": "code",
      "metadata": {
        "id": "XgtPS2JO_wRJ"
      },
      "source": [
        ""
      ],
      "execution_count": null,
      "outputs": []
    },
    {
      "cell_type": "code",
      "metadata": {
        "id": "pNq08mhL_t9y"
      },
      "source": [
        ""
      ],
      "execution_count": null,
      "outputs": []
    },
    {
      "cell_type": "code",
      "metadata": {
        "id": "4_mizV6C_u4Z"
      },
      "source": [
        ""
      ],
      "execution_count": null,
      "outputs": []
    }
  ]
}