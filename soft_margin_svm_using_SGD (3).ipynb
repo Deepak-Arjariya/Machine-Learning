{
  "nbformat": 4,
  "nbformat_minor": 0,
  "metadata": {
    "colab": {
      "name": "soft_margin_svm_using_SGD.ipynb",
      "provenance": []
    },
    "kernelspec": {
      "name": "python3",
      "display_name": "Python 3"
    },
    "language_info": {
      "name": "python"
    }
  },
  "cells": [
    {
      "cell_type": "markdown",
      "metadata": {
        "id": "Ebr_mFnorIyM"
      },
      "source": [
        "link to the dataset ---------------->>>>>  [link text](https://www.kaggle.com/rashikrahmanpritom/heart-attack-analysis-prediction-dataset)"
      ]
    },
    {
      "cell_type": "markdown",
      "metadata": {
        "id": "X8WZCwxsl_O3"
      },
      "source": [
        "# ***Defining SVM class ***"
      ]
    },
    {
      "cell_type": "code",
      "metadata": {
        "id": "uMjrkdVWr_XD"
      },
      "source": [
        "class SVM:\n",
        "    def __init__(self, lamb=0.01, iterations=1000):\n",
        "        self.lamb=lamb\n",
        "        self.epochs=iterations\n",
        "        self.weights = None\n",
        "\n",
        "    def fit(self, X, Y):\n",
        "        self.weights = np.zeros(len(X[0]))\n",
        "        sum=np.zeros(len(X[0]))\n",
        "        i=0\n",
        "        for epoch in range(1,self.epochs):\n",
        "          self.weights=sum/(self.lamb*epoch)\n",
        "          i=i%X.shape[0]\n",
        "          if (Y[i]*np.dot(X[i], self.weights)) < 1:\n",
        "            sum = sum + self.lamb *  (X[i] * Y[i])\n",
        "          i+=1\n",
        "        \n",
        "      \n",
        "    def predict(self, X):\n",
        "        y_pred = []\n",
        "        for i in range(X.shape[0]):\n",
        "            y_pred.append(self.helper(np.dot(self.weights, X[i])))\n",
        "        return y_pred\n",
        "\n",
        "    def helper(self, helper):\n",
        "        if (helper >= 0):\n",
        "            return 1\n",
        "        return -1"
      ],
      "execution_count": 1,
      "outputs": []
    },
    {
      "cell_type": "code",
      "metadata": {
        "id": "DCU5hHLbuFQL"
      },
      "source": [
        "import pandas as pd\n",
        "import numpy as np\n",
        "from sklearn.model_selection import train_test_split\n",
        "from sklearn.metrics import accuracy_score"
      ],
      "execution_count": 2,
      "outputs": []
    },
    {
      "cell_type": "code",
      "metadata": {
        "colab": {
          "base_uri": "https://localhost:8080/",
          "height": 203
        },
        "id": "WUQ_AexSuGcF",
        "outputId": "10ce48ec-1473-43a1-adfe-e132dd4505a3"
      },
      "source": [
        "df = pd.read_csv('heart.csv')\n",
        "df.head()"
      ],
      "execution_count": 3,
      "outputs": [
        {
          "output_type": "execute_result",
          "data": {
            "text/html": [
              "<div>\n",
              "<style scoped>\n",
              "    .dataframe tbody tr th:only-of-type {\n",
              "        vertical-align: middle;\n",
              "    }\n",
              "\n",
              "    .dataframe tbody tr th {\n",
              "        vertical-align: top;\n",
              "    }\n",
              "\n",
              "    .dataframe thead th {\n",
              "        text-align: right;\n",
              "    }\n",
              "</style>\n",
              "<table border=\"1\" class=\"dataframe\">\n",
              "  <thead>\n",
              "    <tr style=\"text-align: right;\">\n",
              "      <th></th>\n",
              "      <th>age</th>\n",
              "      <th>sex</th>\n",
              "      <th>cp</th>\n",
              "      <th>trtbps</th>\n",
              "      <th>chol</th>\n",
              "      <th>fbs</th>\n",
              "      <th>restecg</th>\n",
              "      <th>thalachh</th>\n",
              "      <th>exng</th>\n",
              "      <th>oldpeak</th>\n",
              "      <th>slp</th>\n",
              "      <th>caa</th>\n",
              "      <th>thall</th>\n",
              "      <th>output</th>\n",
              "    </tr>\n",
              "  </thead>\n",
              "  <tbody>\n",
              "    <tr>\n",
              "      <th>0</th>\n",
              "      <td>63</td>\n",
              "      <td>1</td>\n",
              "      <td>3</td>\n",
              "      <td>145</td>\n",
              "      <td>233</td>\n",
              "      <td>1</td>\n",
              "      <td>0</td>\n",
              "      <td>150</td>\n",
              "      <td>0</td>\n",
              "      <td>2.3</td>\n",
              "      <td>0</td>\n",
              "      <td>0</td>\n",
              "      <td>1</td>\n",
              "      <td>1</td>\n",
              "    </tr>\n",
              "    <tr>\n",
              "      <th>1</th>\n",
              "      <td>37</td>\n",
              "      <td>1</td>\n",
              "      <td>2</td>\n",
              "      <td>130</td>\n",
              "      <td>250</td>\n",
              "      <td>0</td>\n",
              "      <td>1</td>\n",
              "      <td>187</td>\n",
              "      <td>0</td>\n",
              "      <td>3.5</td>\n",
              "      <td>0</td>\n",
              "      <td>0</td>\n",
              "      <td>2</td>\n",
              "      <td>1</td>\n",
              "    </tr>\n",
              "    <tr>\n",
              "      <th>2</th>\n",
              "      <td>41</td>\n",
              "      <td>0</td>\n",
              "      <td>1</td>\n",
              "      <td>130</td>\n",
              "      <td>204</td>\n",
              "      <td>0</td>\n",
              "      <td>0</td>\n",
              "      <td>172</td>\n",
              "      <td>0</td>\n",
              "      <td>1.4</td>\n",
              "      <td>2</td>\n",
              "      <td>0</td>\n",
              "      <td>2</td>\n",
              "      <td>1</td>\n",
              "    </tr>\n",
              "    <tr>\n",
              "      <th>3</th>\n",
              "      <td>56</td>\n",
              "      <td>1</td>\n",
              "      <td>1</td>\n",
              "      <td>120</td>\n",
              "      <td>236</td>\n",
              "      <td>0</td>\n",
              "      <td>1</td>\n",
              "      <td>178</td>\n",
              "      <td>0</td>\n",
              "      <td>0.8</td>\n",
              "      <td>2</td>\n",
              "      <td>0</td>\n",
              "      <td>2</td>\n",
              "      <td>1</td>\n",
              "    </tr>\n",
              "    <tr>\n",
              "      <th>4</th>\n",
              "      <td>57</td>\n",
              "      <td>0</td>\n",
              "      <td>0</td>\n",
              "      <td>120</td>\n",
              "      <td>354</td>\n",
              "      <td>0</td>\n",
              "      <td>1</td>\n",
              "      <td>163</td>\n",
              "      <td>1</td>\n",
              "      <td>0.6</td>\n",
              "      <td>2</td>\n",
              "      <td>0</td>\n",
              "      <td>2</td>\n",
              "      <td>1</td>\n",
              "    </tr>\n",
              "  </tbody>\n",
              "</table>\n",
              "</div>"
            ],
            "text/plain": [
              "   age  sex  cp  trtbps  chol  fbs  ...  exng  oldpeak  slp  caa  thall  output\n",
              "0   63    1   3     145   233    1  ...     0      2.3    0    0      1       1\n",
              "1   37    1   2     130   250    0  ...     0      3.5    0    0      2       1\n",
              "2   41    0   1     130   204    0  ...     0      1.4    2    0      2       1\n",
              "3   56    1   1     120   236    0  ...     0      0.8    2    0      2       1\n",
              "4   57    0   0     120   354    0  ...     1      0.6    2    0      2       1\n",
              "\n",
              "[5 rows x 14 columns]"
            ]
          },
          "metadata": {},
          "execution_count": 3
        }
      ]
    },
    {
      "cell_type": "code",
      "metadata": {
        "colab": {
          "base_uri": "https://localhost:8080/",
          "height": 203
        },
        "id": "xmYTXc78uGlx",
        "outputId": "e87a2fe9-c80c-4b0a-e581-2966c06c70af"
      },
      "source": [
        "x = df.iloc[:, 0:-1]\n",
        "y = df.iloc[:, -1:]\n",
        "x.head()"
      ],
      "execution_count": 4,
      "outputs": [
        {
          "output_type": "execute_result",
          "data": {
            "text/html": [
              "<div>\n",
              "<style scoped>\n",
              "    .dataframe tbody tr th:only-of-type {\n",
              "        vertical-align: middle;\n",
              "    }\n",
              "\n",
              "    .dataframe tbody tr th {\n",
              "        vertical-align: top;\n",
              "    }\n",
              "\n",
              "    .dataframe thead th {\n",
              "        text-align: right;\n",
              "    }\n",
              "</style>\n",
              "<table border=\"1\" class=\"dataframe\">\n",
              "  <thead>\n",
              "    <tr style=\"text-align: right;\">\n",
              "      <th></th>\n",
              "      <th>age</th>\n",
              "      <th>sex</th>\n",
              "      <th>cp</th>\n",
              "      <th>trtbps</th>\n",
              "      <th>chol</th>\n",
              "      <th>fbs</th>\n",
              "      <th>restecg</th>\n",
              "      <th>thalachh</th>\n",
              "      <th>exng</th>\n",
              "      <th>oldpeak</th>\n",
              "      <th>slp</th>\n",
              "      <th>caa</th>\n",
              "      <th>thall</th>\n",
              "    </tr>\n",
              "  </thead>\n",
              "  <tbody>\n",
              "    <tr>\n",
              "      <th>0</th>\n",
              "      <td>63</td>\n",
              "      <td>1</td>\n",
              "      <td>3</td>\n",
              "      <td>145</td>\n",
              "      <td>233</td>\n",
              "      <td>1</td>\n",
              "      <td>0</td>\n",
              "      <td>150</td>\n",
              "      <td>0</td>\n",
              "      <td>2.3</td>\n",
              "      <td>0</td>\n",
              "      <td>0</td>\n",
              "      <td>1</td>\n",
              "    </tr>\n",
              "    <tr>\n",
              "      <th>1</th>\n",
              "      <td>37</td>\n",
              "      <td>1</td>\n",
              "      <td>2</td>\n",
              "      <td>130</td>\n",
              "      <td>250</td>\n",
              "      <td>0</td>\n",
              "      <td>1</td>\n",
              "      <td>187</td>\n",
              "      <td>0</td>\n",
              "      <td>3.5</td>\n",
              "      <td>0</td>\n",
              "      <td>0</td>\n",
              "      <td>2</td>\n",
              "    </tr>\n",
              "    <tr>\n",
              "      <th>2</th>\n",
              "      <td>41</td>\n",
              "      <td>0</td>\n",
              "      <td>1</td>\n",
              "      <td>130</td>\n",
              "      <td>204</td>\n",
              "      <td>0</td>\n",
              "      <td>0</td>\n",
              "      <td>172</td>\n",
              "      <td>0</td>\n",
              "      <td>1.4</td>\n",
              "      <td>2</td>\n",
              "      <td>0</td>\n",
              "      <td>2</td>\n",
              "    </tr>\n",
              "    <tr>\n",
              "      <th>3</th>\n",
              "      <td>56</td>\n",
              "      <td>1</td>\n",
              "      <td>1</td>\n",
              "      <td>120</td>\n",
              "      <td>236</td>\n",
              "      <td>0</td>\n",
              "      <td>1</td>\n",
              "      <td>178</td>\n",
              "      <td>0</td>\n",
              "      <td>0.8</td>\n",
              "      <td>2</td>\n",
              "      <td>0</td>\n",
              "      <td>2</td>\n",
              "    </tr>\n",
              "    <tr>\n",
              "      <th>4</th>\n",
              "      <td>57</td>\n",
              "      <td>0</td>\n",
              "      <td>0</td>\n",
              "      <td>120</td>\n",
              "      <td>354</td>\n",
              "      <td>0</td>\n",
              "      <td>1</td>\n",
              "      <td>163</td>\n",
              "      <td>1</td>\n",
              "      <td>0.6</td>\n",
              "      <td>2</td>\n",
              "      <td>0</td>\n",
              "      <td>2</td>\n",
              "    </tr>\n",
              "  </tbody>\n",
              "</table>\n",
              "</div>"
            ],
            "text/plain": [
              "   age  sex  cp  trtbps  chol  fbs  ...  thalachh  exng  oldpeak  slp  caa  thall\n",
              "0   63    1   3     145   233    1  ...       150     0      2.3    0    0      1\n",
              "1   37    1   2     130   250    0  ...       187     0      3.5    0    0      2\n",
              "2   41    0   1     130   204    0  ...       172     0      1.4    2    0      2\n",
              "3   56    1   1     120   236    0  ...       178     0      0.8    2    0      2\n",
              "4   57    0   0     120   354    0  ...       163     1      0.6    2    0      2\n",
              "\n",
              "[5 rows x 13 columns]"
            ]
          },
          "metadata": {},
          "execution_count": 4
        }
      ]
    },
    {
      "cell_type": "code",
      "metadata": {
        "colab": {
          "base_uri": "https://localhost:8080/",
          "height": 203
        },
        "id": "dDW2KcC7uGts",
        "outputId": "9f4355cb-1ae8-4d5c-ece8-6c82cca87101"
      },
      "source": [
        "y=y.replace(0,-1)\n",
        "y.head()"
      ],
      "execution_count": 5,
      "outputs": [
        {
          "output_type": "execute_result",
          "data": {
            "text/html": [
              "<div>\n",
              "<style scoped>\n",
              "    .dataframe tbody tr th:only-of-type {\n",
              "        vertical-align: middle;\n",
              "    }\n",
              "\n",
              "    .dataframe tbody tr th {\n",
              "        vertical-align: top;\n",
              "    }\n",
              "\n",
              "    .dataframe thead th {\n",
              "        text-align: right;\n",
              "    }\n",
              "</style>\n",
              "<table border=\"1\" class=\"dataframe\">\n",
              "  <thead>\n",
              "    <tr style=\"text-align: right;\">\n",
              "      <th></th>\n",
              "      <th>output</th>\n",
              "    </tr>\n",
              "  </thead>\n",
              "  <tbody>\n",
              "    <tr>\n",
              "      <th>0</th>\n",
              "      <td>1</td>\n",
              "    </tr>\n",
              "    <tr>\n",
              "      <th>1</th>\n",
              "      <td>1</td>\n",
              "    </tr>\n",
              "    <tr>\n",
              "      <th>2</th>\n",
              "      <td>1</td>\n",
              "    </tr>\n",
              "    <tr>\n",
              "      <th>3</th>\n",
              "      <td>1</td>\n",
              "    </tr>\n",
              "    <tr>\n",
              "      <th>4</th>\n",
              "      <td>1</td>\n",
              "    </tr>\n",
              "  </tbody>\n",
              "</table>\n",
              "</div>"
            ],
            "text/plain": [
              "   output\n",
              "0       1\n",
              "1       1\n",
              "2       1\n",
              "3       1\n",
              "4       1"
            ]
          },
          "metadata": {},
          "execution_count": 5
        }
      ]
    },
    {
      "cell_type": "code",
      "metadata": {
        "colab": {
          "base_uri": "https://localhost:8080/"
        },
        "id": "xTmSe2KzuG0-",
        "outputId": "1aed03ad-5db1-4c7b-9f92-72aef6fe3f64"
      },
      "source": [
        "x = x[x.columns[0:-1]].values\n",
        "x"
      ],
      "execution_count": 6,
      "outputs": [
        {
          "output_type": "execute_result",
          "data": {
            "text/plain": [
              "array([[63. ,  1. ,  3. , ...,  2.3,  0. ,  0. ],\n",
              "       [37. ,  1. ,  2. , ...,  3.5,  0. ,  0. ],\n",
              "       [41. ,  0. ,  1. , ...,  1.4,  2. ,  0. ],\n",
              "       ...,\n",
              "       [68. ,  1. ,  0. , ...,  3.4,  1. ,  2. ],\n",
              "       [57. ,  1. ,  0. , ...,  1.2,  1. ,  1. ],\n",
              "       [57. ,  0. ,  1. , ...,  0. ,  1. ,  1. ]])"
            ]
          },
          "metadata": {},
          "execution_count": 6
        }
      ]
    },
    {
      "cell_type": "code",
      "metadata": {
        "id": "4FVNvhEuuG8B"
      },
      "source": [
        "y = y[y.columns[0:]].values"
      ],
      "execution_count": 7,
      "outputs": []
    },
    {
      "cell_type": "code",
      "metadata": {
        "colab": {
          "base_uri": "https://localhost:8080/"
        },
        "id": "mD90AJ7KuHBi",
        "outputId": "86922ad4-3d93-4e9d-f908-bcedffc1734c"
      },
      "source": [
        "train_x, test_x, train_y, test_y = train_test_split(x, y, test_size=.2)\n",
        "train_x"
      ],
      "execution_count": 8,
      "outputs": [
        {
          "output_type": "execute_result",
          "data": {
            "text/plain": [
              "array([[35. ,  1. ,  0. , ...,  0. ,  2. ,  0. ],\n",
              "       [58. ,  0. ,  3. , ...,  1. ,  2. ,  0. ],\n",
              "       [62. ,  0. ,  0. , ...,  1.2,  1. ,  0. ],\n",
              "       ...,\n",
              "       [60. ,  1. ,  0. , ...,  1.4,  2. ,  1. ],\n",
              "       [57. ,  1. ,  2. , ...,  1.6,  2. ,  0. ],\n",
              "       [41. ,  1. ,  1. , ...,  0. ,  2. ,  0. ]])"
            ]
          },
          "metadata": {},
          "execution_count": 8
        }
      ]
    },
    {
      "cell_type": "markdown",
      "metadata": {
        "id": "EJX9C_GhmVmG"
      },
      "source": [
        "**solving for lambda=0.01 and 1000 iterations**"
      ]
    },
    {
      "cell_type": "code",
      "metadata": {
        "id": "RKUgAxRLuHG8"
      },
      "source": [
        "svm=SVM()\n",
        "svm.fit(train_x,train_y)"
      ],
      "execution_count": 9,
      "outputs": []
    },
    {
      "cell_type": "markdown",
      "metadata": {
        "id": "wnvgU3JymiSQ"
      },
      "source": [
        "pedicting accuracy score on test data"
      ]
    },
    {
      "cell_type": "code",
      "metadata": {
        "colab": {
          "base_uri": "https://localhost:8080/"
        },
        "id": "wcWkddSrusIW",
        "outputId": "69b33028-9d8a-4bb3-b01a-915769c24f8d"
      },
      "source": [
        "pred_y=svm .predict(test_x)\n",
        "accuracy_score(test_y, pred_y)"
      ],
      "execution_count": 10,
      "outputs": [
        {
          "output_type": "execute_result",
          "data": {
            "text/plain": [
              "0.5081967213114754"
            ]
          },
          "metadata": {},
          "execution_count": 10
        }
      ]
    },
    {
      "cell_type": "markdown",
      "metadata": {
        "id": "D-pjHaxvmnis"
      },
      "source": [
        "pedicting accuracy score on training data"
      ]
    },
    {
      "cell_type": "code",
      "metadata": {
        "colab": {
          "base_uri": "https://localhost:8080/"
        },
        "id": "VmXhAiaQuw-3",
        "outputId": "029ac0b3-af54-4193-df58-a91906856378"
      },
      "source": [
        "pred_train_y=svm.predict(train_x)\n",
        "accuracy_score(train_y, pred_train_y)"
      ],
      "execution_count": 11,
      "outputs": [
        {
          "output_type": "execute_result",
          "data": {
            "text/plain": [
              "0.5909090909090909"
            ]
          },
          "metadata": {},
          "execution_count": 11
        }
      ]
    },
    {
      "cell_type": "markdown",
      "metadata": {
        "id": "OiBEY5jUmp_o"
      },
      "source": [
        "**solving for lambda=0.1 and 1000 iterations**"
      ]
    },
    {
      "cell_type": "code",
      "metadata": {
        "id": "J0xZb59gu53G"
      },
      "source": [
        "svm=SVM(lamb=0.1, iterations=1000)\n",
        "svm.fit(train_x,train_y)"
      ],
      "execution_count": 12,
      "outputs": []
    },
    {
      "cell_type": "markdown",
      "metadata": {
        "id": "ydYAnoqjm9vT"
      },
      "source": [
        "pedicting accuracy score on test data"
      ]
    },
    {
      "cell_type": "code",
      "metadata": {
        "colab": {
          "base_uri": "https://localhost:8080/"
        },
        "id": "lbeWoJZXu9Dd",
        "outputId": "04f5e0ed-1e36-4933-d550-b86957f3c254"
      },
      "source": [
        "pred_y=svm .predict(test_x)\n",
        "accuracy_score(test_y, pred_y)"
      ],
      "execution_count": 13,
      "outputs": [
        {
          "output_type": "execute_result",
          "data": {
            "text/plain": [
              "0.5081967213114754"
            ]
          },
          "metadata": {},
          "execution_count": 13
        }
      ]
    },
    {
      "cell_type": "markdown",
      "metadata": {
        "id": "W3GQ9MQ7nAv0"
      },
      "source": [
        "pedicting accuracy score on training data"
      ]
    },
    {
      "cell_type": "code",
      "metadata": {
        "colab": {
          "base_uri": "https://localhost:8080/"
        },
        "id": "gVpEzPhmu_am",
        "outputId": "f8cf6a31-5fe5-4d94-ac69-da6714e603d1"
      },
      "source": [
        "pred_train_y=svm.predict(train_x)\n",
        "accuracy_score(train_y, pred_train_y)"
      ],
      "execution_count": 14,
      "outputs": [
        {
          "output_type": "execute_result",
          "data": {
            "text/plain": [
              "0.5909090909090909"
            ]
          },
          "metadata": {},
          "execution_count": 14
        }
      ]
    },
    {
      "cell_type": "markdown",
      "metadata": {
        "id": "xQDj0mSwmvQq"
      },
      "source": [
        "**solving for lambda=2 and 10000 iterations**"
      ]
    },
    {
      "cell_type": "code",
      "metadata": {
        "id": "gUKacEwjvPWW"
      },
      "source": [
        "svm=SVM(lamb=2, iterations=10000)\n",
        "svm.fit(train_x,train_y)"
      ],
      "execution_count": 15,
      "outputs": []
    },
    {
      "cell_type": "markdown",
      "metadata": {
        "id": "ay-lwzgmnFJP"
      },
      "source": [
        "pedicting accuracy score on test data"
      ]
    },
    {
      "cell_type": "code",
      "metadata": {
        "colab": {
          "base_uri": "https://localhost:8080/"
        },
        "id": "3H8kqxISvTME",
        "outputId": "206dd234-83bc-479d-dcba-481bf8219243"
      },
      "source": [
        "pred_y=svm .predict(test_x)\n",
        "accuracy_score(test_y, pred_y)"
      ],
      "execution_count": 16,
      "outputs": [
        {
          "output_type": "execute_result",
          "data": {
            "text/plain": [
              "0.7377049180327869"
            ]
          },
          "metadata": {},
          "execution_count": 16
        }
      ]
    },
    {
      "cell_type": "markdown",
      "metadata": {
        "id": "s5WoommHnHVG"
      },
      "source": [
        "pedicting accuracy score on training data"
      ]
    },
    {
      "cell_type": "code",
      "metadata": {
        "colab": {
          "base_uri": "https://localhost:8080/"
        },
        "id": "Z_g1IuzgvVKo",
        "outputId": "a3c5201c-044c-4727-dbbf-7d70acec8881"
      },
      "source": [
        "pred_train_y=svm.predict(train_x)\n",
        "accuracy_score(train_y, pred_train_y)"
      ],
      "execution_count": 17,
      "outputs": [
        {
          "output_type": "execute_result",
          "data": {
            "text/plain": [
              "0.6694214876033058"
            ]
          },
          "metadata": {},
          "execution_count": 17
        }
      ]
    },
    {
      "cell_type": "markdown",
      "metadata": {
        "id": "_T_hNt8Bmy1M"
      },
      "source": [
        "**solving for lambda=10 and 10000 iterations**"
      ]
    },
    {
      "cell_type": "code",
      "metadata": {
        "id": "K3Hh_H6pvXIH"
      },
      "source": [
        "svm=SVM(lamb=10, iterations=10000)\n",
        "svm.fit(train_x,train_y)"
      ],
      "execution_count": 18,
      "outputs": []
    },
    {
      "cell_type": "markdown",
      "metadata": {
        "id": "PAiFNIxBnMj2"
      },
      "source": [
        "pedicting accuracy score on test data"
      ]
    },
    {
      "cell_type": "code",
      "metadata": {
        "colab": {
          "base_uri": "https://localhost:8080/"
        },
        "id": "GnTxc8Q6vZib",
        "outputId": "7130f669-0118-443f-ab34-8e487452c4e0"
      },
      "source": [
        "pred_y=svm .predict(test_x)\n",
        "accuracy_score(test_y, pred_y)"
      ],
      "execution_count": 19,
      "outputs": [
        {
          "output_type": "execute_result",
          "data": {
            "text/plain": [
              "0.7377049180327869"
            ]
          },
          "metadata": {},
          "execution_count": 19
        }
      ]
    },
    {
      "cell_type": "markdown",
      "metadata": {
        "id": "rKYGNUWvnPA7"
      },
      "source": [
        "pedicting accuracy score on training data"
      ]
    },
    {
      "cell_type": "code",
      "metadata": {
        "colab": {
          "base_uri": "https://localhost:8080/"
        },
        "id": "yFocDDwEvbby",
        "outputId": "48eebd84-5d7c-47fa-bf32-b3b89fb38c56"
      },
      "source": [
        "pred_train_y=svm.predict(train_x)\n",
        "accuracy_score(train_y, pred_train_y)"
      ],
      "execution_count": 20,
      "outputs": [
        {
          "output_type": "execute_result",
          "data": {
            "text/plain": [
              "0.6694214876033058"
            ]
          },
          "metadata": {},
          "execution_count": 20
        }
      ]
    },
    {
      "cell_type": "markdown",
      "metadata": {
        "id": "HtAEi3evo_BV"
      },
      "source": [
        "# **Predicting accuracy score using built in SVM classifier**"
      ]
    },
    {
      "cell_type": "code",
      "metadata": {
        "id": "rlA2_--9o3Sy"
      },
      "source": [
        "from sklearn import svm\n",
        "fun = svm.LinearSVC()\n",
        "fun.fit(train_x,train_y)\n"
      ],
      "execution_count": null,
      "outputs": []
    },
    {
      "cell_type": "markdown",
      "metadata": {
        "id": "3ljDHGRbpEob"
      },
      "source": [
        "accuracy on test data"
      ]
    },
    {
      "cell_type": "code",
      "metadata": {
        "colab": {
          "base_uri": "https://localhost:8080/"
        },
        "id": "qp_LMRS0o4Cz",
        "outputId": "5139977f-049c-4313-9aab-615d8e1a9409"
      },
      "source": [
        "pred_y=fun.predict(test_x)\n",
        "accuracy_score(test_y,pred_y)"
      ],
      "execution_count": 22,
      "outputs": [
        {
          "output_type": "execute_result",
          "data": {
            "text/plain": [
              "0.8852459016393442"
            ]
          },
          "metadata": {},
          "execution_count": 22
        }
      ]
    },
    {
      "cell_type": "markdown",
      "metadata": {
        "id": "_BGlBFmxpHT-"
      },
      "source": [
        "accuracy on training data"
      ]
    },
    {
      "cell_type": "code",
      "metadata": {
        "colab": {
          "base_uri": "https://localhost:8080/"
        },
        "id": "RMSt7qpLo7Xe",
        "outputId": "76cd8c14-0cf7-4ccb-d291-d3f79c6a73d9"
      },
      "source": [
        "pred_train_y=fun.predict(train_x)\n",
        "accuracy_score(train_y,pred_train_y)"
      ],
      "execution_count": 23,
      "outputs": [
        {
          "output_type": "execute_result",
          "data": {
            "text/plain": [
              "0.8057851239669421"
            ]
          },
          "metadata": {},
          "execution_count": 23
        }
      ]
    }
  ]
}