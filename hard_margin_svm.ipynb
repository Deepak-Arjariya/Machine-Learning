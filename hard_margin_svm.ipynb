{
  "nbformat": 4,
  "nbformat_minor": 0,
  "metadata": {
    "colab": {
      "name": "hard-margin-svm.ipynb",
      "provenance": []
    },
    "kernelspec": {
      "name": "python3",
      "display_name": "Python 3"
    },
    "language_info": {
      "name": "python"
    }
  },
  "cells": [
    {
      "cell_type": "markdown",
      "metadata": {
        "id": "21PkL4A2rMfS"
      },
      "source": [
        "link to the dataset ---------------->>>>>  [link text](https://www.kaggle.com/rashikrahmanpritom/heart-attack-analysis-prediction-dataset)"
      ]
    },
    {
      "cell_type": "markdown",
      "metadata": {
        "id": "JBWFfCqGpgfi"
      },
      "source": [
        "# *Defining SVM class "
      ]
    },
    {
      "cell_type": "code",
      "metadata": {
        "id": "OfPpjUzZpYyk"
      },
      "source": [
        "import numpy as np\n",
        "from cvxopt import matrix as cvxopt_matrix\n",
        "from cvxopt import solvers as cvxopt_solvers\n",
        "import math\n",
        "class SVM:\n",
        "  def __init__(self):\n",
        "    self.weights=None\n",
        "    self.b=None\n",
        "    self.a=None\n",
        "    self.sv=None\n",
        "    self.sv_y=None\n",
        "  \n",
        "  def fit(self,X,Y):\n",
        "    m,n = X.shape\n",
        "    y = Y.reshape(-1,1) * 1.\n",
        "    X_dash = y * X\n",
        "    H = np.dot(X_dash , X_dash.T) * 1.\n",
        "    P = cvxopt_matrix(H)\n",
        "    q = cvxopt_matrix(-np.ones((m, 1)))\n",
        "    G = cvxopt_matrix(-np.eye(m))\n",
        "    h = cvxopt_matrix(np.zeros(m))\n",
        "    A = cvxopt_matrix(y.reshape(1, -1))\n",
        "    b = cvxopt_matrix(np.zeros(1))\n",
        "\n",
        "    # changing default parameters\n",
        "    \n",
        "    cvxopt_solvers.options['show_progress'] = False\n",
        "    cvxopt_solvers.options['abstol'] = 1e-10\n",
        "    cvxopt_solvers.options['reltol'] = 1e-10\n",
        "    cvxopt_solvers.options['feastol'] = 1e-10\n",
        "    sol = cvxopt_solvers.qp(P, q, G, h, A, b)\n",
        "    alphas = np.array(sol['x'])\n",
        "    self.weights = np.zeros(n)\n",
        "    self.weights = ((y * alphas).T @ X).reshape(-1,1)\n",
        "    \n",
        "    \n",
        "    S = (alphas > 1e-4).flatten()\n",
        "    self.b = y[S] - np.dot(X[S], self.weights)\n",
        "    a = np.ravel(sol['x'])\n",
        "    sv = a > 1e-5\n",
        "    self.a = a[sv]\n",
        "    self.sv = X[sv]\n",
        "    self.sv_y = y[sv]\n",
        "    self.b=self.b[0]\n",
        "    val=0\n",
        "    for j in range(self.weights.shape[0]):\n",
        "      val+=self.weights[j]*self.weights[j];\n",
        "    val=math.sqrt(val)\n",
        "    margin=((np.dot(self.sv[0], self.weights) + self.b))/val\n",
        "    print(\"---------------------------------------------------------------------------SOLUTION-------------------------------------------------------\")\n",
        "    print(\"margin value is %d\" % (abs(margin)))\n",
        "    print(\"----------------------------------------------------------------------------------------------------------------------------------\")\n",
        "    print(\"%d support vectors out of %d points\" % (len(self.a), m))\n",
        "    print(\"----------------------------------------------------------------------------------------------------------------------------------\")\n",
        "    print(\"The weight parameters are as follows---------------------------------\")\n",
        "    print(self.weights)\n",
        "    print(\"----------------------------------------------------------------------------------------------------------------------------------\")\n",
        "    print(\"The bias parameter is as follow---------------------------------\")\n",
        "    print(self.b)\n",
        "    print(\"----------------------------------------------------------------------------------------------------------------------------------\")\n",
        "    print(\"Support Vectors are as follows:-----------------------------------------------------\")\n",
        "    print(self.sv)\n",
        "  \n",
        "  def predict(self,X):\n",
        "    return np.sign(np.dot(X, self.weights) + self.b)\n"
      ],
      "execution_count": null,
      "outputs": []
    },
    {
      "cell_type": "code",
      "metadata": {
        "id": "64h_Uw85qmsZ"
      },
      "source": [
        "import pandas as pd\n",
        "import numpy as np\n",
        "from sklearn.model_selection import train_test_split\n",
        "from sklearn.metrics import accuracy_score\n"
      ],
      "execution_count": null,
      "outputs": []
    },
    {
      "cell_type": "code",
      "metadata": {
        "colab": {
          "base_uri": "https://localhost:8080/",
          "height": 203
        },
        "id": "FYmL0HUiqnCP",
        "outputId": "2e0ad106-70ba-43bf-ae6e-f9cebf0a3568"
      },
      "source": [
        "df = pd.read_csv('heart.csv')\n",
        "df.head()"
      ],
      "execution_count": null,
      "outputs": [
        {
          "output_type": "execute_result",
          "data": {
            "text/html": [
              "<div>\n",
              "<style scoped>\n",
              "    .dataframe tbody tr th:only-of-type {\n",
              "        vertical-align: middle;\n",
              "    }\n",
              "\n",
              "    .dataframe tbody tr th {\n",
              "        vertical-align: top;\n",
              "    }\n",
              "\n",
              "    .dataframe thead th {\n",
              "        text-align: right;\n",
              "    }\n",
              "</style>\n",
              "<table border=\"1\" class=\"dataframe\">\n",
              "  <thead>\n",
              "    <tr style=\"text-align: right;\">\n",
              "      <th></th>\n",
              "      <th>age</th>\n",
              "      <th>sex</th>\n",
              "      <th>cp</th>\n",
              "      <th>trtbps</th>\n",
              "      <th>chol</th>\n",
              "      <th>fbs</th>\n",
              "      <th>restecg</th>\n",
              "      <th>thalachh</th>\n",
              "      <th>exng</th>\n",
              "      <th>oldpeak</th>\n",
              "      <th>slp</th>\n",
              "      <th>caa</th>\n",
              "      <th>thall</th>\n",
              "      <th>output</th>\n",
              "    </tr>\n",
              "  </thead>\n",
              "  <tbody>\n",
              "    <tr>\n",
              "      <th>0</th>\n",
              "      <td>63</td>\n",
              "      <td>1</td>\n",
              "      <td>3</td>\n",
              "      <td>145</td>\n",
              "      <td>233</td>\n",
              "      <td>1</td>\n",
              "      <td>0</td>\n",
              "      <td>150</td>\n",
              "      <td>0</td>\n",
              "      <td>2.3</td>\n",
              "      <td>0</td>\n",
              "      <td>0</td>\n",
              "      <td>1</td>\n",
              "      <td>1</td>\n",
              "    </tr>\n",
              "    <tr>\n",
              "      <th>1</th>\n",
              "      <td>37</td>\n",
              "      <td>1</td>\n",
              "      <td>2</td>\n",
              "      <td>130</td>\n",
              "      <td>250</td>\n",
              "      <td>0</td>\n",
              "      <td>1</td>\n",
              "      <td>187</td>\n",
              "      <td>0</td>\n",
              "      <td>3.5</td>\n",
              "      <td>0</td>\n",
              "      <td>0</td>\n",
              "      <td>2</td>\n",
              "      <td>1</td>\n",
              "    </tr>\n",
              "    <tr>\n",
              "      <th>2</th>\n",
              "      <td>41</td>\n",
              "      <td>0</td>\n",
              "      <td>1</td>\n",
              "      <td>130</td>\n",
              "      <td>204</td>\n",
              "      <td>0</td>\n",
              "      <td>0</td>\n",
              "      <td>172</td>\n",
              "      <td>0</td>\n",
              "      <td>1.4</td>\n",
              "      <td>2</td>\n",
              "      <td>0</td>\n",
              "      <td>2</td>\n",
              "      <td>1</td>\n",
              "    </tr>\n",
              "    <tr>\n",
              "      <th>3</th>\n",
              "      <td>56</td>\n",
              "      <td>1</td>\n",
              "      <td>1</td>\n",
              "      <td>120</td>\n",
              "      <td>236</td>\n",
              "      <td>0</td>\n",
              "      <td>1</td>\n",
              "      <td>178</td>\n",
              "      <td>0</td>\n",
              "      <td>0.8</td>\n",
              "      <td>2</td>\n",
              "      <td>0</td>\n",
              "      <td>2</td>\n",
              "      <td>1</td>\n",
              "    </tr>\n",
              "    <tr>\n",
              "      <th>4</th>\n",
              "      <td>57</td>\n",
              "      <td>0</td>\n",
              "      <td>0</td>\n",
              "      <td>120</td>\n",
              "      <td>354</td>\n",
              "      <td>0</td>\n",
              "      <td>1</td>\n",
              "      <td>163</td>\n",
              "      <td>1</td>\n",
              "      <td>0.6</td>\n",
              "      <td>2</td>\n",
              "      <td>0</td>\n",
              "      <td>2</td>\n",
              "      <td>1</td>\n",
              "    </tr>\n",
              "  </tbody>\n",
              "</table>\n",
              "</div>"
            ],
            "text/plain": [
              "   age  sex  cp  trtbps  chol  fbs  ...  exng  oldpeak  slp  caa  thall  output\n",
              "0   63    1   3     145   233    1  ...     0      2.3    0    0      1       1\n",
              "1   37    1   2     130   250    0  ...     0      3.5    0    0      2       1\n",
              "2   41    0   1     130   204    0  ...     0      1.4    2    0      2       1\n",
              "3   56    1   1     120   236    0  ...     0      0.8    2    0      2       1\n",
              "4   57    0   0     120   354    0  ...     1      0.6    2    0      2       1\n",
              "\n",
              "[5 rows x 14 columns]"
            ]
          },
          "metadata": {},
          "execution_count": 4
        }
      ]
    },
    {
      "cell_type": "code",
      "metadata": {
        "colab": {
          "base_uri": "https://localhost:8080/",
          "height": 203
        },
        "id": "8h5FK5gTqnLY",
        "outputId": "d38d5926-5e56-438b-b4dc-6ded85d0ee74"
      },
      "source": [
        "x = df.iloc[:, 0:-1]\n",
        "y = df.iloc[:, -1:]\n",
        "x.head()"
      ],
      "execution_count": null,
      "outputs": [
        {
          "output_type": "execute_result",
          "data": {
            "text/html": [
              "<div>\n",
              "<style scoped>\n",
              "    .dataframe tbody tr th:only-of-type {\n",
              "        vertical-align: middle;\n",
              "    }\n",
              "\n",
              "    .dataframe tbody tr th {\n",
              "        vertical-align: top;\n",
              "    }\n",
              "\n",
              "    .dataframe thead th {\n",
              "        text-align: right;\n",
              "    }\n",
              "</style>\n",
              "<table border=\"1\" class=\"dataframe\">\n",
              "  <thead>\n",
              "    <tr style=\"text-align: right;\">\n",
              "      <th></th>\n",
              "      <th>age</th>\n",
              "      <th>sex</th>\n",
              "      <th>cp</th>\n",
              "      <th>trtbps</th>\n",
              "      <th>chol</th>\n",
              "      <th>fbs</th>\n",
              "      <th>restecg</th>\n",
              "      <th>thalachh</th>\n",
              "      <th>exng</th>\n",
              "      <th>oldpeak</th>\n",
              "      <th>slp</th>\n",
              "      <th>caa</th>\n",
              "      <th>thall</th>\n",
              "    </tr>\n",
              "  </thead>\n",
              "  <tbody>\n",
              "    <tr>\n",
              "      <th>0</th>\n",
              "      <td>63</td>\n",
              "      <td>1</td>\n",
              "      <td>3</td>\n",
              "      <td>145</td>\n",
              "      <td>233</td>\n",
              "      <td>1</td>\n",
              "      <td>0</td>\n",
              "      <td>150</td>\n",
              "      <td>0</td>\n",
              "      <td>2.3</td>\n",
              "      <td>0</td>\n",
              "      <td>0</td>\n",
              "      <td>1</td>\n",
              "    </tr>\n",
              "    <tr>\n",
              "      <th>1</th>\n",
              "      <td>37</td>\n",
              "      <td>1</td>\n",
              "      <td>2</td>\n",
              "      <td>130</td>\n",
              "      <td>250</td>\n",
              "      <td>0</td>\n",
              "      <td>1</td>\n",
              "      <td>187</td>\n",
              "      <td>0</td>\n",
              "      <td>3.5</td>\n",
              "      <td>0</td>\n",
              "      <td>0</td>\n",
              "      <td>2</td>\n",
              "    </tr>\n",
              "    <tr>\n",
              "      <th>2</th>\n",
              "      <td>41</td>\n",
              "      <td>0</td>\n",
              "      <td>1</td>\n",
              "      <td>130</td>\n",
              "      <td>204</td>\n",
              "      <td>0</td>\n",
              "      <td>0</td>\n",
              "      <td>172</td>\n",
              "      <td>0</td>\n",
              "      <td>1.4</td>\n",
              "      <td>2</td>\n",
              "      <td>0</td>\n",
              "      <td>2</td>\n",
              "    </tr>\n",
              "    <tr>\n",
              "      <th>3</th>\n",
              "      <td>56</td>\n",
              "      <td>1</td>\n",
              "      <td>1</td>\n",
              "      <td>120</td>\n",
              "      <td>236</td>\n",
              "      <td>0</td>\n",
              "      <td>1</td>\n",
              "      <td>178</td>\n",
              "      <td>0</td>\n",
              "      <td>0.8</td>\n",
              "      <td>2</td>\n",
              "      <td>0</td>\n",
              "      <td>2</td>\n",
              "    </tr>\n",
              "    <tr>\n",
              "      <th>4</th>\n",
              "      <td>57</td>\n",
              "      <td>0</td>\n",
              "      <td>0</td>\n",
              "      <td>120</td>\n",
              "      <td>354</td>\n",
              "      <td>0</td>\n",
              "      <td>1</td>\n",
              "      <td>163</td>\n",
              "      <td>1</td>\n",
              "      <td>0.6</td>\n",
              "      <td>2</td>\n",
              "      <td>0</td>\n",
              "      <td>2</td>\n",
              "    </tr>\n",
              "  </tbody>\n",
              "</table>\n",
              "</div>"
            ],
            "text/plain": [
              "   age  sex  cp  trtbps  chol  fbs  ...  thalachh  exng  oldpeak  slp  caa  thall\n",
              "0   63    1   3     145   233    1  ...       150     0      2.3    0    0      1\n",
              "1   37    1   2     130   250    0  ...       187     0      3.5    0    0      2\n",
              "2   41    0   1     130   204    0  ...       172     0      1.4    2    0      2\n",
              "3   56    1   1     120   236    0  ...       178     0      0.8    2    0      2\n",
              "4   57    0   0     120   354    0  ...       163     1      0.6    2    0      2\n",
              "\n",
              "[5 rows x 13 columns]"
            ]
          },
          "metadata": {},
          "execution_count": 11
        }
      ]
    },
    {
      "cell_type": "code",
      "metadata": {
        "colab": {
          "base_uri": "https://localhost:8080/",
          "height": 203
        },
        "id": "x9jsFpMKqnTU",
        "outputId": "d9e9d075-91ef-42d6-98f9-070a9942a1c4"
      },
      "source": [
        "x = x[x.columns[0:-1]].values\n",
        "\n",
        "y=y.replace(0,-1)\n",
        "y.head()\n"
      ],
      "execution_count": null,
      "outputs": [
        {
          "output_type": "execute_result",
          "data": {
            "text/html": [
              "<div>\n",
              "<style scoped>\n",
              "    .dataframe tbody tr th:only-of-type {\n",
              "        vertical-align: middle;\n",
              "    }\n",
              "\n",
              "    .dataframe tbody tr th {\n",
              "        vertical-align: top;\n",
              "    }\n",
              "\n",
              "    .dataframe thead th {\n",
              "        text-align: right;\n",
              "    }\n",
              "</style>\n",
              "<table border=\"1\" class=\"dataframe\">\n",
              "  <thead>\n",
              "    <tr style=\"text-align: right;\">\n",
              "      <th></th>\n",
              "      <th>output</th>\n",
              "    </tr>\n",
              "  </thead>\n",
              "  <tbody>\n",
              "    <tr>\n",
              "      <th>0</th>\n",
              "      <td>1</td>\n",
              "    </tr>\n",
              "    <tr>\n",
              "      <th>1</th>\n",
              "      <td>1</td>\n",
              "    </tr>\n",
              "    <tr>\n",
              "      <th>2</th>\n",
              "      <td>1</td>\n",
              "    </tr>\n",
              "    <tr>\n",
              "      <th>3</th>\n",
              "      <td>1</td>\n",
              "    </tr>\n",
              "    <tr>\n",
              "      <th>4</th>\n",
              "      <td>1</td>\n",
              "    </tr>\n",
              "  </tbody>\n",
              "</table>\n",
              "</div>"
            ],
            "text/plain": [
              "   output\n",
              "0       1\n",
              "1       1\n",
              "2       1\n",
              "3       1\n",
              "4       1"
            ]
          },
          "metadata": {},
          "execution_count": 12
        }
      ]
    },
    {
      "cell_type": "code",
      "metadata": {
        "colab": {
          "base_uri": "https://localhost:8080/",
          "height": 203
        },
        "id": "juIGp7PqrWDd",
        "outputId": "d43e8a7c-0de5-4ab7-cdb8-bb253c51e657"
      },
      "source": [
        "y.tail()"
      ],
      "execution_count": null,
      "outputs": [
        {
          "output_type": "execute_result",
          "data": {
            "text/html": [
              "<div>\n",
              "<style scoped>\n",
              "    .dataframe tbody tr th:only-of-type {\n",
              "        vertical-align: middle;\n",
              "    }\n",
              "\n",
              "    .dataframe tbody tr th {\n",
              "        vertical-align: top;\n",
              "    }\n",
              "\n",
              "    .dataframe thead th {\n",
              "        text-align: right;\n",
              "    }\n",
              "</style>\n",
              "<table border=\"1\" class=\"dataframe\">\n",
              "  <thead>\n",
              "    <tr style=\"text-align: right;\">\n",
              "      <th></th>\n",
              "      <th>output</th>\n",
              "    </tr>\n",
              "  </thead>\n",
              "  <tbody>\n",
              "    <tr>\n",
              "      <th>298</th>\n",
              "      <td>-1</td>\n",
              "    </tr>\n",
              "    <tr>\n",
              "      <th>299</th>\n",
              "      <td>-1</td>\n",
              "    </tr>\n",
              "    <tr>\n",
              "      <th>300</th>\n",
              "      <td>-1</td>\n",
              "    </tr>\n",
              "    <tr>\n",
              "      <th>301</th>\n",
              "      <td>-1</td>\n",
              "    </tr>\n",
              "    <tr>\n",
              "      <th>302</th>\n",
              "      <td>-1</td>\n",
              "    </tr>\n",
              "  </tbody>\n",
              "</table>\n",
              "</div>"
            ],
            "text/plain": [
              "     output\n",
              "298      -1\n",
              "299      -1\n",
              "300      -1\n",
              "301      -1\n",
              "302      -1"
            ]
          },
          "metadata": {},
          "execution_count": 13
        }
      ]
    },
    {
      "cell_type": "code",
      "metadata": {
        "id": "kilA_FDprYTN"
      },
      "source": [
        "y = y[y.columns[0:]].values"
      ],
      "execution_count": null,
      "outputs": []
    },
    {
      "cell_type": "markdown",
      "metadata": {
        "id": "BVTuPSM3p2_b"
      },
      "source": [
        "# converting the dataset to linearly seperable one using a logistic regression "
      ]
    },
    {
      "cell_type": "code",
      "metadata": {
        "colab": {
          "base_uri": "https://localhost:8080/"
        },
        "id": "_EsvYe5Eqnar",
        "outputId": "52cb3057-1c01-4aad-ea77-dd71c5bfcbf7"
      },
      "source": [
        "from sklearn.linear_model import LogisticRegression\n",
        "fun=LogisticRegression()\n",
        "fun.fit(x, y)\n",
        "y = fun.predict(x)"
      ],
      "execution_count": null,
      "outputs": [
        {
          "output_type": "stream",
          "name": "stderr",
          "text": [
            "/usr/local/lib/python3.7/dist-packages/sklearn/linear_model/_logistic.py:940: ConvergenceWarning: lbfgs failed to converge (status=1):\n",
            "STOP: TOTAL NO. of ITERATIONS REACHED LIMIT.\n",
            "\n",
            "Increase the number of iterations (max_iter) or scale the data as shown in:\n",
            "    https://scikit-learn.org/stable/modules/preprocessing.html\n",
            "Please also refer to the documentation for alternative solver options:\n",
            "    https://scikit-learn.org/stable/modules/linear_model.html#logistic-regression\n",
            "  extra_warning_msg=_LOGISTIC_SOLVER_CONVERGENCE_MSG)\n"
          ]
        }
      ]
    },
    {
      "cell_type": "code",
      "metadata": {
        "colab": {
          "base_uri": "https://localhost:8080/"
        },
        "id": "Yf9j-wvfqnhE",
        "outputId": "71a2ae2f-8ff9-41b2-986c-d4a45c5c23e3"
      },
      "source": [
        "from sklearn.metrics import accuracy_score\n",
        "y_pred2 = fun.predict(x)\n",
        "accuracy_score(y, y_pred2)"
      ],
      "execution_count": null,
      "outputs": [
        {
          "output_type": "execute_result",
          "data": {
            "text/plain": [
              "1.0"
            ]
          },
          "metadata": {},
          "execution_count": 23
        }
      ]
    },
    {
      "cell_type": "code",
      "metadata": {
        "colab": {
          "base_uri": "https://localhost:8080/"
        },
        "id": "xoQW74qHqnnt",
        "outputId": "4d436b0f-b9d6-44c2-dac7-3f42f518513a"
      },
      "source": [
        "train_x, test_x, train_y, test_y = train_test_split(x, y, test_size=.2)\n",
        "train_x"
      ],
      "execution_count": null,
      "outputs": [
        {
          "output_type": "execute_result",
          "data": {
            "text/plain": [
              "array([[44. ,  1. ,  1. , ...,  0. ,  2. ,  0. ],\n",
              "       [66. ,  1. ,  0. , ...,  0.1,  2. ,  1. ],\n",
              "       [41. ,  0. ,  2. , ...,  0. ,  2. ,  0. ],\n",
              "       ...,\n",
              "       [49. ,  1. ,  2. , ...,  2. ,  1. ,  3. ],\n",
              "       [43. ,  1. ,  0. , ...,  0. ,  2. ,  0. ],\n",
              "       [52. ,  1. ,  0. , ...,  1. ,  2. ,  2. ]])"
            ]
          },
          "metadata": {},
          "execution_count": 24
        }
      ]
    },
    {
      "cell_type": "code",
      "metadata": {
        "id": "gmItLZaBqnuR"
      },
      "source": [
        "train_y"
      ],
      "execution_count": null,
      "outputs": []
    },
    {
      "cell_type": "markdown",
      "metadata": {
        "id": "kocx4DSvqVf7"
      },
      "source": [
        "**Using hard SVM classifier**"
      ]
    },
    {
      "cell_type": "code",
      "metadata": {
        "colab": {
          "base_uri": "https://localhost:8080/"
        },
        "id": "XL4N-dO3qn0d",
        "outputId": "0ab78dae-b3a2-426c-e0cb-6e4c4c103392"
      },
      "source": [
        "svm=SVM()\n",
        "svm.fit(train_x,train_y)"
      ],
      "execution_count": null,
      "outputs": [
        {
          "output_type": "stream",
          "name": "stdout",
          "text": [
            "---------------------------------------------------------------------------SOLUTION-------------------------------------------------------\n",
            "margin value is 0\n",
            "----------------------------------------------------------------------------------------------------------------------------------\n",
            "13 support vectors out of 242 points\n",
            "----------------------------------------------------------------------------------------------------------------------------------\n",
            "The weight parameters are as follows---------------------------------\n",
            "[[-0.02442885]\n",
            " [-7.73311977]\n",
            " [ 4.17466728]\n",
            " [-0.01847448]\n",
            " [-0.0418719 ]\n",
            " [-0.28254742]\n",
            " [ 0.9257799 ]\n",
            " [ 0.20520847]\n",
            " [-4.02771374]\n",
            " [-3.55047741]\n",
            " [-0.05191405]\n",
            " [-3.55913553]]\n",
            "----------------------------------------------------------------------------------------------------------------------------------\n",
            "The bias parameter is as follow---------------------------------\n",
            "[-6.30669972]\n",
            "----------------------------------------------------------------------------------------------------------------------------------\n",
            "Support Vectors are as follows:-----------------------------------------------------\n",
            "[[5.80e+01 1.00e+00 1.00e+00 1.20e+02 2.84e+02 0.00e+00 0.00e+00 1.60e+02\n",
            "  0.00e+00 1.80e+00 1.00e+00 0.00e+00]\n",
            " [5.70e+01 0.00e+00 0.00e+00 1.40e+02 2.41e+02 0.00e+00 1.00e+00 1.23e+02\n",
            "  1.00e+00 2.00e-01 1.00e+00 0.00e+00]\n",
            " [5.10e+01 1.00e+00 3.00e+00 1.25e+02 2.13e+02 0.00e+00 0.00e+00 1.25e+02\n",
            "  1.00e+00 1.40e+00 2.00e+00 1.00e+00]\n",
            " [6.60e+01 1.00e+00 0.00e+00 1.20e+02 3.02e+02 0.00e+00 0.00e+00 1.51e+02\n",
            "  0.00e+00 4.00e-01 1.00e+00 0.00e+00]\n",
            " [6.10e+01 1.00e+00 3.00e+00 1.34e+02 2.34e+02 0.00e+00 1.00e+00 1.45e+02\n",
            "  0.00e+00 2.60e+00 1.00e+00 2.00e+00]\n",
            " [6.60e+01 0.00e+00 0.00e+00 1.78e+02 2.28e+02 1.00e+00 1.00e+00 1.65e+02\n",
            "  1.00e+00 1.00e+00 1.00e+00 2.00e+00]\n",
            " [6.10e+01 0.00e+00 0.00e+00 1.45e+02 3.07e+02 0.00e+00 0.00e+00 1.46e+02\n",
            "  1.00e+00 1.00e+00 1.00e+00 0.00e+00]\n",
            " [6.10e+01 1.00e+00 2.00e+00 1.50e+02 2.43e+02 1.00e+00 1.00e+00 1.37e+02\n",
            "  1.00e+00 1.00e+00 1.00e+00 0.00e+00]\n",
            " [3.90e+01 1.00e+00 0.00e+00 1.18e+02 2.19e+02 0.00e+00 1.00e+00 1.40e+02\n",
            "  0.00e+00 1.20e+00 1.00e+00 0.00e+00]\n",
            " [6.20e+01 0.00e+00 0.00e+00 1.40e+02 3.94e+02 0.00e+00 0.00e+00 1.57e+02\n",
            "  0.00e+00 1.20e+00 1.00e+00 0.00e+00]\n",
            " [5.10e+01 0.00e+00 0.00e+00 1.30e+02 3.05e+02 0.00e+00 1.00e+00 1.42e+02\n",
            "  1.00e+00 1.20e+00 1.00e+00 0.00e+00]\n",
            " [4.60e+01 1.00e+00 2.00e+00 1.50e+02 2.31e+02 0.00e+00 1.00e+00 1.47e+02\n",
            "  0.00e+00 3.60e+00 1.00e+00 0.00e+00]\n",
            " [5.90e+01 1.00e+00 0.00e+00 1.40e+02 1.77e+02 0.00e+00 1.00e+00 1.62e+02\n",
            "  1.00e+00 0.00e+00 2.00e+00 1.00e+00]]\n"
          ]
        }
      ]
    },
    {
      "cell_type": "markdown",
      "metadata": {
        "id": "qZUxsNHWqaIW"
      },
      "source": [
        "accuracy on test data"
      ]
    },
    {
      "cell_type": "code",
      "metadata": {
        "colab": {
          "base_uri": "https://localhost:8080/"
        },
        "id": "bb81MhAFqn6s",
        "outputId": "2ce5c230-b5b8-4878-d884-ed0208715281"
      },
      "source": [
        "pred_y=svm .predict(test_x)\n",
        "accuracy_score(test_y, pred_y)"
      ],
      "execution_count": null,
      "outputs": [
        {
          "output_type": "execute_result",
          "data": {
            "text/plain": [
              "0.9672131147540983"
            ]
          },
          "metadata": {},
          "execution_count": 27
        }
      ]
    },
    {
      "cell_type": "markdown",
      "metadata": {
        "id": "SCRJZ6TKqfIs"
      },
      "source": [
        "accuracy on training data"
      ]
    },
    {
      "cell_type": "code",
      "metadata": {
        "colab": {
          "base_uri": "https://localhost:8080/"
        },
        "id": "9mt5I3WXrz9-",
        "outputId": "40c6ee5f-76ab-454c-851c-e8dbb67cee61"
      },
      "source": [
        "pred_train_y=svm.predict(train_x)\n",
        "accuracy_score(train_y, pred_train_y)"
      ],
      "execution_count": null,
      "outputs": [
        {
          "output_type": "execute_result",
          "data": {
            "text/plain": [
              "1.0"
            ]
          },
          "metadata": {},
          "execution_count": 28
        }
      ]
    }
  ]
}